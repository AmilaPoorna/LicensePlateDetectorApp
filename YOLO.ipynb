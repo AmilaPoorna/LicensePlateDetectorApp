{
 "cells": [
  {
   "cell_type": "code",
   "execution_count": 1,
   "id": "3be8a174-f5d8-403a-b998-aff052301a32",
   "metadata": {},
   "outputs": [
    {
     "name": "stdout",
     "output_type": "stream",
     "text": [
      "Requirement already satisfied: roboflow in c:\\users\\user\\anaconda3\\lib\\site-packages (1.1.63)\n",
      "Requirement already satisfied: certifi in c:\\users\\user\\appdata\\roaming\\python\\python312\\site-packages (from roboflow) (2024.8.30)\n",
      "Requirement already satisfied: idna==3.7 in c:\\users\\user\\anaconda3\\lib\\site-packages (from roboflow) (3.7)\n",
      "Requirement already satisfied: cycler in c:\\users\\user\\appdata\\roaming\\python\\python312\\site-packages (from roboflow) (0.12.1)\n",
      "Requirement already satisfied: kiwisolver>=1.3.1 in c:\\users\\user\\appdata\\roaming\\python\\python312\\site-packages (from roboflow) (1.4.8)\n",
      "Requirement already satisfied: matplotlib in c:\\users\\user\\appdata\\roaming\\python\\python312\\site-packages (from roboflow) (3.10.3)\n",
      "Requirement already satisfied: numpy>=1.18.5 in c:\\users\\user\\appdata\\roaming\\python\\python312\\site-packages (from roboflow) (1.26.0)\n",
      "Requirement already satisfied: opencv-python-headless==4.10.0.84 in c:\\users\\user\\anaconda3\\lib\\site-packages (from roboflow) (4.10.0.84)\n",
      "Requirement already satisfied: Pillow>=7.1.2 in c:\\users\\user\\appdata\\roaming\\python\\python312\\site-packages (from roboflow) (10.4.0)\n",
      "Requirement already satisfied: pillow-heif>=0.18.0 in c:\\users\\user\\anaconda3\\lib\\site-packages (from roboflow) (0.22.0)\n",
      "Requirement already satisfied: python-dateutil in c:\\users\\user\\appdata\\roaming\\python\\python312\\site-packages (from roboflow) (2.9.0.post0)\n",
      "Requirement already satisfied: python-dotenv in c:\\users\\user\\appdata\\roaming\\python\\python312\\site-packages (from roboflow) (1.0.1)\n",
      "Requirement already satisfied: requests in c:\\users\\user\\appdata\\roaming\\python\\python312\\site-packages (from roboflow) (2.32.3)\n",
      "Requirement already satisfied: six in c:\\users\\user\\appdata\\roaming\\python\\python312\\site-packages (from roboflow) (1.17.0)\n",
      "Requirement already satisfied: urllib3>=1.26.6 in c:\\users\\user\\appdata\\roaming\\python\\python312\\site-packages (from roboflow) (2.2.3)\n",
      "Requirement already satisfied: tqdm>=4.41.0 in c:\\users\\user\\appdata\\roaming\\python\\python312\\site-packages (from roboflow) (4.67.1)\n",
      "Requirement already satisfied: PyYAML>=5.3.1 in c:\\users\\user\\appdata\\roaming\\python\\python312\\site-packages (from roboflow) (6.0.2)\n",
      "Requirement already satisfied: requests-toolbelt in c:\\users\\user\\anaconda3\\lib\\site-packages (from roboflow) (1.0.0)\n",
      "Requirement already satisfied: filetype in c:\\users\\user\\anaconda3\\lib\\site-packages (from roboflow) (1.2.0)\n",
      "Requirement already satisfied: colorama in c:\\users\\user\\appdata\\roaming\\python\\python312\\site-packages (from tqdm>=4.41.0->roboflow) (0.4.6)\n",
      "Requirement already satisfied: contourpy>=1.0.1 in c:\\users\\user\\appdata\\roaming\\python\\python312\\site-packages (from matplotlib->roboflow) (1.3.2)\n",
      "Requirement already satisfied: fonttools>=4.22.0 in c:\\users\\user\\appdata\\roaming\\python\\python312\\site-packages (from matplotlib->roboflow) (4.58.0)\n",
      "Requirement already satisfied: packaging>=20.0 in c:\\users\\user\\appdata\\roaming\\python\\python312\\site-packages (from matplotlib->roboflow) (24.2)\n",
      "Requirement already satisfied: pyparsing>=2.3.1 in c:\\users\\user\\appdata\\roaming\\python\\python312\\site-packages (from matplotlib->roboflow) (3.2.3)\n",
      "Requirement already satisfied: charset-normalizer<4,>=2 in c:\\users\\user\\appdata\\roaming\\python\\python312\\site-packages (from requests->roboflow) (3.4.0)\n"
     ]
    },
    {
     "name": "stderr",
     "output_type": "stream",
     "text": [
      "\n",
      "[notice] A new release of pip is available: 24.3.1 -> 25.1.1\n",
      "[notice] To update, run: python.exe -m pip install --upgrade pip\n"
     ]
    },
    {
     "name": "stdout",
     "output_type": "stream",
     "text": [
      "loading Roboflow workspace...\n",
      "loading Roboflow project...\n"
     ]
    },
    {
     "name": "stderr",
     "output_type": "stream",
     "text": [
      "Downloading Dataset Version Zip in License-Plate-Recognition-11 to yolov8:: 100%|██████████| 527254/527254 [17:06<00:00, 513.80it/s]  "
     ]
    },
    {
     "name": "stdout",
     "output_type": "stream",
     "text": [
      "\n"
     ]
    },
    {
     "name": "stderr",
     "output_type": "stream",
     "text": [
      "\n",
      "Extracting Dataset Version Zip to License-Plate-Recognition-11 in yolov8:: 100%|██████████| 20262/20262 [00:32<00:00, 616.47it/s]\n"
     ]
    }
   ],
   "source": [
    "!pip install roboflow\n",
    "\n",
    "from roboflow import Roboflow\n",
    "rf = Roboflow(api_key=\"miL1vjZcMFu1gYwwlkC2\")\n",
    "project = rf.workspace(\"roboflow-universe-projects\").project(\"license-plate-recognition-rxg4e\")\n",
    "version = project.version(11)\n",
    "dataset = version.download(\"yolov8\")"
   ]
  },
  {
   "cell_type": "code",
   "execution_count": 5,
   "id": "a65de2e4-01b7-401a-bb19-2fe3ebdb7026",
   "metadata": {},
   "outputs": [
    {
     "name": "stdout",
     "output_type": "stream",
     "text": [
      "Requirement already satisfied: ultralytics in c:\\users\\user\\appdata\\roaming\\python\\python312\\site-packages (8.3.133)\n",
      "Requirement already satisfied: numpy>=1.23.0 in c:\\users\\user\\appdata\\roaming\\python\\python312\\site-packages (from ultralytics) (1.26.0)\n",
      "Requirement already satisfied: matplotlib>=3.3.0 in c:\\users\\user\\appdata\\roaming\\python\\python312\\site-packages (from ultralytics) (3.10.3)\n",
      "Requirement already satisfied: opencv-python>=4.6.0 in c:\\users\\user\\appdata\\roaming\\python\\python312\\site-packages (from ultralytics) (4.10.0.84)\n",
      "Requirement already satisfied: pillow>=7.1.2 in c:\\users\\user\\appdata\\roaming\\python\\python312\\site-packages (from ultralytics) (10.4.0)\n",
      "Requirement already satisfied: pyyaml>=5.3.1 in c:\\users\\user\\appdata\\roaming\\python\\python312\\site-packages (from ultralytics) (6.0.2)\n",
      "Requirement already satisfied: requests>=2.23.0 in c:\\users\\user\\appdata\\roaming\\python\\python312\\site-packages (from ultralytics) (2.32.3)\n",
      "Requirement already satisfied: scipy>=1.4.1 in c:\\users\\user\\appdata\\roaming\\python\\python312\\site-packages (from ultralytics) (1.14.1)\n",
      "Requirement already satisfied: torch>=1.8.0 in c:\\users\\user\\appdata\\roaming\\python\\python312\\site-packages (from ultralytics) (2.7.0)\n",
      "Requirement already satisfied: torchvision>=0.9.0 in c:\\users\\user\\appdata\\roaming\\python\\python312\\site-packages (from ultralytics) (0.22.0)\n",
      "Requirement already satisfied: tqdm>=4.64.0 in c:\\users\\user\\appdata\\roaming\\python\\python312\\site-packages (from ultralytics) (4.67.1)\n",
      "Requirement already satisfied: psutil in c:\\users\\user\\appdata\\roaming\\python\\python312\\site-packages (from ultralytics) (7.0.0)\n",
      "Requirement already satisfied: py-cpuinfo in c:\\users\\user\\appdata\\roaming\\python\\python312\\site-packages (from ultralytics) (9.0.0)\n",
      "Requirement already satisfied: pandas>=1.1.4 in c:\\users\\user\\appdata\\roaming\\python\\python312\\site-packages (from ultralytics) (2.2.3)\n",
      "Requirement already satisfied: seaborn>=0.11.0 in c:\\users\\user\\appdata\\roaming\\python\\python312\\site-packages (from ultralytics) (0.13.2)\n",
      "Requirement already satisfied: ultralytics-thop>=2.0.0 in c:\\users\\user\\appdata\\roaming\\python\\python312\\site-packages (from ultralytics) (2.0.14)\n",
      "Requirement already satisfied: contourpy>=1.0.1 in c:\\users\\user\\appdata\\roaming\\python\\python312\\site-packages (from matplotlib>=3.3.0->ultralytics) (1.3.2)\n",
      "Requirement already satisfied: cycler>=0.10 in c:\\users\\user\\appdata\\roaming\\python\\python312\\site-packages (from matplotlib>=3.3.0->ultralytics) (0.12.1)\n",
      "Requirement already satisfied: fonttools>=4.22.0 in c:\\users\\user\\appdata\\roaming\\python\\python312\\site-packages (from matplotlib>=3.3.0->ultralytics) (4.58.0)\n",
      "Requirement already satisfied: kiwisolver>=1.3.1 in c:\\users\\user\\appdata\\roaming\\python\\python312\\site-packages (from matplotlib>=3.3.0->ultralytics) (1.4.8)\n",
      "Requirement already satisfied: packaging>=20.0 in c:\\users\\user\\appdata\\roaming\\python\\python312\\site-packages (from matplotlib>=3.3.0->ultralytics) (24.2)\n",
      "Requirement already satisfied: pyparsing>=2.3.1 in c:\\users\\user\\appdata\\roaming\\python\\python312\\site-packages (from matplotlib>=3.3.0->ultralytics) (3.2.3)\n",
      "Requirement already satisfied: python-dateutil>=2.7 in c:\\users\\user\\appdata\\roaming\\python\\python312\\site-packages (from matplotlib>=3.3.0->ultralytics) (2.9.0.post0)\n",
      "Requirement already satisfied: pytz>=2020.1 in c:\\users\\user\\appdata\\roaming\\python\\python312\\site-packages (from pandas>=1.1.4->ultralytics) (2025.2)\n",
      "Requirement already satisfied: tzdata>=2022.7 in c:\\users\\user\\appdata\\roaming\\python\\python312\\site-packages (from pandas>=1.1.4->ultralytics) (2025.2)\n",
      "Requirement already satisfied: charset-normalizer<4,>=2 in c:\\users\\user\\appdata\\roaming\\python\\python312\\site-packages (from requests>=2.23.0->ultralytics) (3.4.0)\n",
      "Requirement already satisfied: idna<4,>=2.5 in c:\\users\\user\\anaconda3\\lib\\site-packages (from requests>=2.23.0->ultralytics) (3.7)\n",
      "Requirement already satisfied: urllib3<3,>=1.21.1 in c:\\users\\user\\appdata\\roaming\\python\\python312\\site-packages (from requests>=2.23.0->ultralytics) (2.2.3)\n",
      "Requirement already satisfied: certifi>=2017.4.17 in c:\\users\\user\\appdata\\roaming\\python\\python312\\site-packages (from requests>=2.23.0->ultralytics) (2024.8.30)\n",
      "Requirement already satisfied: filelock in c:\\users\\user\\appdata\\roaming\\python\\python312\\site-packages (from torch>=1.8.0->ultralytics) (3.18.0)\n",
      "Requirement already satisfied: typing-extensions>=4.10.0 in c:\\users\\user\\appdata\\roaming\\python\\python312\\site-packages (from torch>=1.8.0->ultralytics) (4.12.2)\n",
      "Requirement already satisfied: sympy>=1.13.3 in c:\\users\\user\\appdata\\roaming\\python\\python312\\site-packages (from torch>=1.8.0->ultralytics) (1.14.0)\n",
      "Requirement already satisfied: networkx in c:\\users\\user\\appdata\\roaming\\python\\python312\\site-packages (from torch>=1.8.0->ultralytics) (3.4.2)\n",
      "Requirement already satisfied: jinja2 in c:\\users\\user\\appdata\\roaming\\python\\python312\\site-packages (from torch>=1.8.0->ultralytics) (3.1.5)\n",
      "Requirement already satisfied: fsspec in c:\\users\\user\\appdata\\roaming\\python\\python312\\site-packages (from torch>=1.8.0->ultralytics) (2025.3.2)\n",
      "Requirement already satisfied: setuptools in c:\\users\\user\\appdata\\roaming\\python\\python312\\site-packages (from torch>=1.8.0->ultralytics) (80.4.0)\n",
      "Requirement already satisfied: colorama in c:\\users\\user\\appdata\\roaming\\python\\python312\\site-packages (from tqdm>=4.64.0->ultralytics) (0.4.6)\n",
      "Requirement already satisfied: six>=1.5 in c:\\users\\user\\appdata\\roaming\\python\\python312\\site-packages (from python-dateutil>=2.7->matplotlib>=3.3.0->ultralytics) (1.17.0)\n",
      "Requirement already satisfied: mpmath<1.4,>=1.1.0 in c:\\users\\user\\appdata\\roaming\\python\\python312\\site-packages (from sympy>=1.13.3->torch>=1.8.0->ultralytics) (1.3.0)\n",
      "Requirement already satisfied: MarkupSafe>=2.0 in c:\\users\\user\\appdata\\roaming\\python\\python312\\site-packages (from jinja2->torch>=1.8.0->ultralytics) (3.0.2)\n"
     ]
    },
    {
     "name": "stderr",
     "output_type": "stream",
     "text": [
      "\n",
      "[notice] A new release of pip is available: 24.3.1 -> 25.1.1\n",
      "[notice] To update, run: python.exe -m pip install --upgrade pip\n"
     ]
    },
    {
     "name": "stdout",
     "output_type": "stream",
     "text": [
      "New https://pypi.org/project/ultralytics/8.3.134 available  Update with 'pip install -U ultralytics'\n",
      "Ultralytics 8.3.133  Python-3.12.7 torch-2.7.0+cpu CPU (11th Gen Intel Core(TM) i5-1135G7 2.40GHz)\n",
      "\u001b[34m\u001b[1mengine\\trainer: \u001b[0magnostic_nms=False, amp=True, augment=False, auto_augment=randaugment, batch=8, bgr=0.0, box=7.5, cache=False, cfg=None, classes=None, close_mosaic=10, cls=0.5, conf=None, copy_paste=0.0, copy_paste_mode=flip, cos_lr=False, cutmix=0.0, data=C:\\Users\\User\\My Projects\\License Plate Recognizer\\License-Plate-Recognition-11/data.yaml, degrees=0.0, deterministic=True, device=cpu, dfl=1.5, dnn=False, dropout=0.0, dynamic=False, embed=None, epochs=10, erasing=0.4, exist_ok=False, fliplr=0.5, flipud=0.0, format=torchscript, fraction=1.0, freeze=None, half=False, hsv_h=0.015, hsv_s=0.7, hsv_v=0.4, imgsz=416, int8=False, iou=0.7, keras=False, kobj=1.0, line_width=None, lr0=0.01, lrf=0.01, mask_ratio=4, max_det=300, mixup=0.0, mode=train, model=yolov8n.pt, momentum=0.937, mosaic=1.0, multi_scale=False, name=train2, nbs=64, nms=False, opset=None, optimize=False, optimizer=auto, overlap_mask=True, patience=100, perspective=0.0, plots=True, pose=12.0, pretrained=True, profile=False, project=None, rect=False, resume=False, retina_masks=False, save=True, save_conf=False, save_crop=False, save_dir=runs\\detect\\train2, save_frames=False, save_json=False, save_period=-1, save_txt=False, scale=0.5, seed=0, shear=0.0, show=False, show_boxes=True, show_conf=True, show_labels=True, simplify=True, single_cls=False, source=None, split=val, stream_buffer=False, task=detect, time=None, tracker=botsort.yaml, translate=0.1, val=True, verbose=True, vid_stride=1, visualize=False, warmup_bias_lr=0.1, warmup_epochs=3.0, warmup_momentum=0.8, weight_decay=0.0005, workers=8, workspace=None\n",
      "Overriding model.yaml nc=80 with nc=1\n",
      "\n",
      "                   from  n    params  module                                       arguments                     \n",
      "  0                  -1  1       464  ultralytics.nn.modules.conv.Conv             [3, 16, 3, 2]                 \n",
      "  1                  -1  1      4672  ultralytics.nn.modules.conv.Conv             [16, 32, 3, 2]                \n",
      "  2                  -1  1      7360  ultralytics.nn.modules.block.C2f             [32, 32, 1, True]             \n",
      "  3                  -1  1     18560  ultralytics.nn.modules.conv.Conv             [32, 64, 3, 2]                \n",
      "  4                  -1  2     49664  ultralytics.nn.modules.block.C2f             [64, 64, 2, True]             \n",
      "  5                  -1  1     73984  ultralytics.nn.modules.conv.Conv             [64, 128, 3, 2]               \n",
      "  6                  -1  2    197632  ultralytics.nn.modules.block.C2f             [128, 128, 2, True]           \n",
      "  7                  -1  1    295424  ultralytics.nn.modules.conv.Conv             [128, 256, 3, 2]              \n",
      "  8                  -1  1    460288  ultralytics.nn.modules.block.C2f             [256, 256, 1, True]           \n",
      "  9                  -1  1    164608  ultralytics.nn.modules.block.SPPF            [256, 256, 5]                 \n",
      " 10                  -1  1         0  torch.nn.modules.upsampling.Upsample         [None, 2, 'nearest']          \n",
      " 11             [-1, 6]  1         0  ultralytics.nn.modules.conv.Concat           [1]                           \n",
      " 12                  -1  1    148224  ultralytics.nn.modules.block.C2f             [384, 128, 1]                 \n",
      " 13                  -1  1         0  torch.nn.modules.upsampling.Upsample         [None, 2, 'nearest']          \n",
      " 14             [-1, 4]  1         0  ultralytics.nn.modules.conv.Concat           [1]                           \n",
      " 15                  -1  1     37248  ultralytics.nn.modules.block.C2f             [192, 64, 1]                  \n",
      " 16                  -1  1     36992  ultralytics.nn.modules.conv.Conv             [64, 64, 3, 2]                \n",
      " 17            [-1, 12]  1         0  ultralytics.nn.modules.conv.Concat           [1]                           \n",
      " 18                  -1  1    123648  ultralytics.nn.modules.block.C2f             [192, 128, 1]                 \n",
      " 19                  -1  1    147712  ultralytics.nn.modules.conv.Conv             [128, 128, 3, 2]              \n",
      " 20             [-1, 9]  1         0  ultralytics.nn.modules.conv.Concat           [1]                           \n",
      " 21                  -1  1    493056  ultralytics.nn.modules.block.C2f             [384, 256, 1]                 \n",
      " 22        [15, 18, 21]  1    751507  ultralytics.nn.modules.head.Detect           [1, [64, 128, 256]]           \n",
      "Model summary: 129 layers, 3,011,043 parameters, 3,011,027 gradients, 8.2 GFLOPs\n",
      "\n",
      "Transferred 319/355 items from pretrained weights\n",
      "Freezing layer 'model.22.dfl.conv.weight'\n",
      "\u001b[34m\u001b[1mtrain: \u001b[0mFast image access  (ping: 0.10.0 ms, read: 42.941.9 MB/s, size: 24.9 KB)\n"
     ]
    },
    {
     "name": "stderr",
     "output_type": "stream",
     "text": [
      "\u001b[34m\u001b[1mtrain: \u001b[0mScanning C:\\Users\\User\\My Projects\\License Plate Recognizer\\License-Plate-Recognition-11\\train\\labels.cache... 7057 images, 5 backgrounds, 0 corrupt: 100%|██████████| 7057/7057 [00:00<?, ?it/s]\n"
     ]
    },
    {
     "name": "stdout",
     "output_type": "stream",
     "text": [
      "\u001b[34m\u001b[1mval: \u001b[0mFast image access  (ping: 0.10.0 ms, read: 30.88.4 MB/s, size: 20.8 KB)\n"
     ]
    },
    {
     "name": "stderr",
     "output_type": "stream",
     "text": [
      "'pin_memory' argument is set as true but no accelerator is found, then device pinned memory won't be used.\n",
      "\u001b[34m\u001b[1mval: \u001b[0mScanning C:\\Users\\User\\My Projects\\License Plate Recognizer\\License-Plate-Recognition-11\\valid\\labels.cache... 2048 images, 3 backgrounds, 0 corrupt: 100%|██████████| 2048/2048 [00:00<?, ?it/s]\n",
      "'pin_memory' argument is set as true but no accelerator is found, then device pinned memory won't be used.\n"
     ]
    },
    {
     "name": "stdout",
     "output_type": "stream",
     "text": [
      "Plotting labels to runs\\detect\\train2\\labels.jpg... \n",
      "\u001b[34m\u001b[1moptimizer:\u001b[0m 'optimizer=auto' found, ignoring 'lr0=0.01' and 'momentum=0.937' and determining best 'optimizer', 'lr0' and 'momentum' automatically... \n",
      "\u001b[34m\u001b[1moptimizer:\u001b[0m AdamW(lr=0.002, momentum=0.9) with parameter groups 57 weight(decay=0.0), 64 weight(decay=0.0005), 63 bias(decay=0.0)\n",
      "Image sizes 416 train, 416 val\n",
      "Using 0 dataloader workers\n",
      "Logging results to \u001b[1mruns\\detect\\train2\u001b[0m\n",
      "Starting training for 10 epochs...\n",
      "Closing dataloader mosaic\n",
      "\n",
      "      Epoch    GPU_mem   box_loss   cls_loss   dfl_loss  Instances       Size\n"
     ]
    },
    {
     "name": "stderr",
     "output_type": "stream",
     "text": [
      "'pin_memory' argument is set as true but no accelerator is found, then device pinned memory won't be used.\n",
      "       1/10         0G       1.31      1.338      1.121          1        416: 100%|██████████| 883/883 [25:28<00:00,  1.73s/it]\n",
      "                 Class     Images  Instances      Box(P          R      mAP50  mAP50-95): 100%|██████████| 128/128 [02:05<00:00,  1.02it/s]\n"
     ]
    },
    {
     "name": "stdout",
     "output_type": "stream",
     "text": [
      "                   all       2048       2195      0.942      0.838      0.897      0.553\n",
      "\n",
      "      Epoch    GPU_mem   box_loss   cls_loss   dfl_loss  Instances       Size\n"
     ]
    },
    {
     "name": "stderr",
     "output_type": "stream",
     "text": [
      "       2/10         0G      1.282     0.8286      1.121          1        416: 100%|██████████| 883/883 [17:46<00:00,  1.21s/it]\n",
      "                 Class     Images  Instances      Box(P          R      mAP50  mAP50-95): 100%|██████████| 128/128 [01:01<00:00,  2.08it/s]"
     ]
    },
    {
     "name": "stdout",
     "output_type": "stream",
     "text": [
      "                   all       2048       2195      0.936      0.883      0.921      0.576\n"
     ]
    },
    {
     "name": "stderr",
     "output_type": "stream",
     "text": [
      "\n"
     ]
    },
    {
     "name": "stdout",
     "output_type": "stream",
     "text": [
      "\n",
      "      Epoch    GPU_mem   box_loss   cls_loss   dfl_loss  Instances       Size\n"
     ]
    },
    {
     "name": "stderr",
     "output_type": "stream",
     "text": [
      "       3/10         0G      1.255     0.7353      1.121          1        416: 100%|██████████| 883/883 [12:49<00:00,  1.15it/s]\n",
      "                 Class     Images  Instances      Box(P          R      mAP50  mAP50-95): 100%|██████████| 128/128 [01:04<00:00,  1.97it/s]"
     ]
    },
    {
     "name": "stdout",
     "output_type": "stream",
     "text": [
      "                   all       2048       2195      0.941      0.869      0.918      0.589\n"
     ]
    },
    {
     "name": "stderr",
     "output_type": "stream",
     "text": [
      "\n"
     ]
    },
    {
     "name": "stdout",
     "output_type": "stream",
     "text": [
      "\n",
      "      Epoch    GPU_mem   box_loss   cls_loss   dfl_loss  Instances       Size\n"
     ]
    },
    {
     "name": "stderr",
     "output_type": "stream",
     "text": [
      "       4/10         0G      1.226     0.6771      1.094          1        416: 100%|██████████| 883/883 [12:30<00:00,  1.18it/s]\n",
      "                 Class     Images  Instances      Box(P          R      mAP50  mAP50-95): 100%|██████████| 128/128 [01:03<00:00,  2.00it/s]"
     ]
    },
    {
     "name": "stdout",
     "output_type": "stream",
     "text": [
      "                   all       2048       2195      0.955      0.879      0.929      0.611\n"
     ]
    },
    {
     "name": "stderr",
     "output_type": "stream",
     "text": [
      "\n"
     ]
    },
    {
     "name": "stdout",
     "output_type": "stream",
     "text": [
      "\n",
      "      Epoch    GPU_mem   box_loss   cls_loss   dfl_loss  Instances       Size\n"
     ]
    },
    {
     "name": "stderr",
     "output_type": "stream",
     "text": [
      "       5/10         0G      1.195      0.634      1.087          1        416: 100%|██████████| 883/883 [13:08<00:00,  1.12it/s]\n",
      "                 Class     Images  Instances      Box(P          R      mAP50  mAP50-95): 100%|██████████| 128/128 [01:05<00:00,  1.96it/s]"
     ]
    },
    {
     "name": "stdout",
     "output_type": "stream",
     "text": [
      "                   all       2048       2195      0.976      0.894      0.934      0.624\n"
     ]
    },
    {
     "name": "stderr",
     "output_type": "stream",
     "text": [
      "\n"
     ]
    },
    {
     "name": "stdout",
     "output_type": "stream",
     "text": [
      "\n",
      "      Epoch    GPU_mem   box_loss   cls_loss   dfl_loss  Instances       Size\n"
     ]
    },
    {
     "name": "stderr",
     "output_type": "stream",
     "text": [
      "       6/10         0G      1.167        0.6      1.067          1        416: 100%|██████████| 883/883 [13:30<00:00,  1.09it/s]\n",
      "                 Class     Images  Instances      Box(P          R      mAP50  mAP50-95): 100%|██████████| 128/128 [01:05<00:00,  1.95it/s]"
     ]
    },
    {
     "name": "stdout",
     "output_type": "stream",
     "text": [
      "                   all       2048       2195      0.976      0.894      0.944      0.629\n"
     ]
    },
    {
     "name": "stderr",
     "output_type": "stream",
     "text": [
      "\n"
     ]
    },
    {
     "name": "stdout",
     "output_type": "stream",
     "text": [
      "\n",
      "      Epoch    GPU_mem   box_loss   cls_loss   dfl_loss  Instances       Size\n"
     ]
    },
    {
     "name": "stderr",
     "output_type": "stream",
     "text": [
      "       7/10         0G      1.137     0.5625      1.052          1        416: 100%|██████████| 883/883 [13:04<00:00,  1.12it/s]\n",
      "                 Class     Images  Instances      Box(P          R      mAP50  mAP50-95): 100%|██████████| 128/128 [01:04<00:00,  1.99it/s]"
     ]
    },
    {
     "name": "stdout",
     "output_type": "stream",
     "text": [
      "                   all       2048       2195      0.964      0.911      0.948      0.652\n"
     ]
    },
    {
     "name": "stderr",
     "output_type": "stream",
     "text": [
      "\n"
     ]
    },
    {
     "name": "stdout",
     "output_type": "stream",
     "text": [
      "\n",
      "      Epoch    GPU_mem   box_loss   cls_loss   dfl_loss  Instances       Size\n"
     ]
    },
    {
     "name": "stderr",
     "output_type": "stream",
     "text": [
      "       8/10         0G       1.12     0.5343      1.036          1        416: 100%|██████████| 883/883 [12:48<00:00,  1.15it/s]\n",
      "                 Class     Images  Instances      Box(P          R      mAP50  mAP50-95): 100%|██████████| 128/128 [01:02<00:00,  2.06it/s]"
     ]
    },
    {
     "name": "stdout",
     "output_type": "stream",
     "text": [
      "                   all       2048       2195      0.979       0.91      0.952      0.655\n"
     ]
    },
    {
     "name": "stderr",
     "output_type": "stream",
     "text": [
      "\n"
     ]
    },
    {
     "name": "stdout",
     "output_type": "stream",
     "text": [
      "\n",
      "      Epoch    GPU_mem   box_loss   cls_loss   dfl_loss  Instances       Size\n"
     ]
    },
    {
     "name": "stderr",
     "output_type": "stream",
     "text": [
      "       9/10         0G      1.094     0.5045      1.029          1        416: 100%|██████████| 883/883 [12:55<00:00,  1.14it/s]\n",
      "                 Class     Images  Instances      Box(P          R      mAP50  mAP50-95): 100%|██████████| 128/128 [01:04<00:00,  1.99it/s]"
     ]
    },
    {
     "name": "stdout",
     "output_type": "stream",
     "text": [
      "                   all       2048       2195      0.982      0.906      0.955      0.669\n"
     ]
    },
    {
     "name": "stderr",
     "output_type": "stream",
     "text": [
      "\n"
     ]
    },
    {
     "name": "stdout",
     "output_type": "stream",
     "text": [
      "\n",
      "      Epoch    GPU_mem   box_loss   cls_loss   dfl_loss  Instances       Size\n"
     ]
    },
    {
     "name": "stderr",
     "output_type": "stream",
     "text": [
      "      10/10         0G      1.077     0.4828       1.02          1        416: 100%|██████████| 883/883 [12:31<00:00,  1.17it/s]\n",
      "                 Class     Images  Instances      Box(P          R      mAP50  mAP50-95): 100%|██████████| 128/128 [01:02<00:00,  2.05it/s]"
     ]
    },
    {
     "name": "stdout",
     "output_type": "stream",
     "text": [
      "                   all       2048       2195      0.972      0.923      0.958      0.679\n"
     ]
    },
    {
     "name": "stderr",
     "output_type": "stream",
     "text": [
      "\n"
     ]
    },
    {
     "name": "stdout",
     "output_type": "stream",
     "text": [
      "\n",
      "10 epochs completed in 2.639 hours.\n",
      "Optimizer stripped from runs\\detect\\train2\\weights\\last.pt, 6.2MB\n",
      "Optimizer stripped from runs\\detect\\train2\\weights\\best.pt, 6.2MB\n",
      "\n",
      "Validating runs\\detect\\train2\\weights\\best.pt...\n",
      "Ultralytics 8.3.133  Python-3.12.7 torch-2.7.0+cpu CPU (11th Gen Intel Core(TM) i5-1135G7 2.40GHz)\n",
      "Model summary (fused): 72 layers, 3,005,843 parameters, 0 gradients, 8.1 GFLOPs\n"
     ]
    },
    {
     "name": "stderr",
     "output_type": "stream",
     "text": [
      "                 Class     Images  Instances      Box(P          R      mAP50  mAP50-95): 100%|██████████| 128/128 [00:54<00:00,  2.34it/s]\n"
     ]
    },
    {
     "name": "stdout",
     "output_type": "stream",
     "text": [
      "                   all       2048       2195      0.972      0.923      0.958      0.679\n",
      "Speed: 0.5ms preprocess, 19.6ms inference, 0.0ms loss, 0.4ms postprocess per image\n",
      "Results saved to \u001b[1mruns\\detect\\train2\u001b[0m\n"
     ]
    },
    {
     "data": {
      "text/plain": [
       "ultralytics.utils.metrics.DetMetrics object with attributes:\n",
       "\n",
       "ap_class_index: array([0])\n",
       "box: ultralytics.utils.metrics.Metric object\n",
       "confusion_matrix: <ultralytics.utils.metrics.ConfusionMatrix object at 0x0000027A8FF61580>\n",
       "curves: ['Precision-Recall(B)', 'F1-Confidence(B)', 'Precision-Confidence(B)', 'Recall-Confidence(B)']\n",
       "curves_results: [[array([          0,    0.001001,    0.002002,    0.003003,    0.004004,    0.005005,    0.006006,    0.007007,    0.008008,    0.009009,     0.01001,    0.011011,    0.012012,    0.013013,    0.014014,    0.015015,    0.016016,    0.017017,    0.018018,    0.019019,     0.02002,    0.021021,    0.022022,    0.023023,\n",
       "          0.024024,    0.025025,    0.026026,    0.027027,    0.028028,    0.029029,     0.03003,    0.031031,    0.032032,    0.033033,    0.034034,    0.035035,    0.036036,    0.037037,    0.038038,    0.039039,     0.04004,    0.041041,    0.042042,    0.043043,    0.044044,    0.045045,    0.046046,    0.047047,\n",
       "          0.048048,    0.049049,     0.05005,    0.051051,    0.052052,    0.053053,    0.054054,    0.055055,    0.056056,    0.057057,    0.058058,    0.059059,     0.06006,    0.061061,    0.062062,    0.063063,    0.064064,    0.065065,    0.066066,    0.067067,    0.068068,    0.069069,     0.07007,    0.071071,\n",
       "          0.072072,    0.073073,    0.074074,    0.075075,    0.076076,    0.077077,    0.078078,    0.079079,     0.08008,    0.081081,    0.082082,    0.083083,    0.084084,    0.085085,    0.086086,    0.087087,    0.088088,    0.089089,     0.09009,    0.091091,    0.092092,    0.093093,    0.094094,    0.095095,\n",
       "          0.096096,    0.097097,    0.098098,    0.099099,      0.1001,      0.1011,      0.1021,      0.1031,      0.1041,     0.10511,     0.10611,     0.10711,     0.10811,     0.10911,     0.11011,     0.11111,     0.11211,     0.11311,     0.11411,     0.11512,     0.11612,     0.11712,     0.11812,     0.11912,\n",
       "           0.12012,     0.12112,     0.12212,     0.12312,     0.12412,     0.12513,     0.12613,     0.12713,     0.12813,     0.12913,     0.13013,     0.13113,     0.13213,     0.13313,     0.13413,     0.13514,     0.13614,     0.13714,     0.13814,     0.13914,     0.14014,     0.14114,     0.14214,     0.14314,\n",
       "           0.14414,     0.14515,     0.14615,     0.14715,     0.14815,     0.14915,     0.15015,     0.15115,     0.15215,     0.15315,     0.15415,     0.15516,     0.15616,     0.15716,     0.15816,     0.15916,     0.16016,     0.16116,     0.16216,     0.16316,     0.16416,     0.16517,     0.16617,     0.16717,\n",
       "           0.16817,     0.16917,     0.17017,     0.17117,     0.17217,     0.17317,     0.17417,     0.17518,     0.17618,     0.17718,     0.17818,     0.17918,     0.18018,     0.18118,     0.18218,     0.18318,     0.18418,     0.18519,     0.18619,     0.18719,     0.18819,     0.18919,     0.19019,     0.19119,\n",
       "           0.19219,     0.19319,     0.19419,      0.1952,      0.1962,      0.1972,      0.1982,      0.1992,      0.2002,      0.2012,      0.2022,      0.2032,      0.2042,     0.20521,     0.20621,     0.20721,     0.20821,     0.20921,     0.21021,     0.21121,     0.21221,     0.21321,     0.21421,     0.21522,\n",
       "           0.21622,     0.21722,     0.21822,     0.21922,     0.22022,     0.22122,     0.22222,     0.22322,     0.22422,     0.22523,     0.22623,     0.22723,     0.22823,     0.22923,     0.23023,     0.23123,     0.23223,     0.23323,     0.23423,     0.23524,     0.23624,     0.23724,     0.23824,     0.23924,\n",
       "           0.24024,     0.24124,     0.24224,     0.24324,     0.24424,     0.24525,     0.24625,     0.24725,     0.24825,     0.24925,     0.25025,     0.25125,     0.25225,     0.25325,     0.25425,     0.25526,     0.25626,     0.25726,     0.25826,     0.25926,     0.26026,     0.26126,     0.26226,     0.26326,\n",
       "           0.26426,     0.26527,     0.26627,     0.26727,     0.26827,     0.26927,     0.27027,     0.27127,     0.27227,     0.27327,     0.27427,     0.27528,     0.27628,     0.27728,     0.27828,     0.27928,     0.28028,     0.28128,     0.28228,     0.28328,     0.28428,     0.28529,     0.28629,     0.28729,\n",
       "           0.28829,     0.28929,     0.29029,     0.29129,     0.29229,     0.29329,     0.29429,      0.2953,      0.2963,      0.2973,      0.2983,      0.2993,      0.3003,      0.3013,      0.3023,      0.3033,      0.3043,     0.30531,     0.30631,     0.30731,     0.30831,     0.30931,     0.31031,     0.31131,\n",
       "           0.31231,     0.31331,     0.31431,     0.31532,     0.31632,     0.31732,     0.31832,     0.31932,     0.32032,     0.32132,     0.32232,     0.32332,     0.32432,     0.32533,     0.32633,     0.32733,     0.32833,     0.32933,     0.33033,     0.33133,     0.33233,     0.33333,     0.33433,     0.33534,\n",
       "           0.33634,     0.33734,     0.33834,     0.33934,     0.34034,     0.34134,     0.34234,     0.34334,     0.34434,     0.34535,     0.34635,     0.34735,     0.34835,     0.34935,     0.35035,     0.35135,     0.35235,     0.35335,     0.35435,     0.35536,     0.35636,     0.35736,     0.35836,     0.35936,\n",
       "           0.36036,     0.36136,     0.36236,     0.36336,     0.36436,     0.36537,     0.36637,     0.36737,     0.36837,     0.36937,     0.37037,     0.37137,     0.37237,     0.37337,     0.37437,     0.37538,     0.37638,     0.37738,     0.37838,     0.37938,     0.38038,     0.38138,     0.38238,     0.38338,\n",
       "           0.38438,     0.38539,     0.38639,     0.38739,     0.38839,     0.38939,     0.39039,     0.39139,     0.39239,     0.39339,     0.39439,      0.3954,      0.3964,      0.3974,      0.3984,      0.3994,      0.4004,      0.4014,      0.4024,      0.4034,      0.4044,     0.40541,     0.40641,     0.40741,\n",
       "           0.40841,     0.40941,     0.41041,     0.41141,     0.41241,     0.41341,     0.41441,     0.41542,     0.41642,     0.41742,     0.41842,     0.41942,     0.42042,     0.42142,     0.42242,     0.42342,     0.42442,     0.42543,     0.42643,     0.42743,     0.42843,     0.42943,     0.43043,     0.43143,\n",
       "           0.43243,     0.43343,     0.43443,     0.43544,     0.43644,     0.43744,     0.43844,     0.43944,     0.44044,     0.44144,     0.44244,     0.44344,     0.44444,     0.44545,     0.44645,     0.44745,     0.44845,     0.44945,     0.45045,     0.45145,     0.45245,     0.45345,     0.45445,     0.45546,\n",
       "           0.45646,     0.45746,     0.45846,     0.45946,     0.46046,     0.46146,     0.46246,     0.46346,     0.46446,     0.46547,     0.46647,     0.46747,     0.46847,     0.46947,     0.47047,     0.47147,     0.47247,     0.47347,     0.47447,     0.47548,     0.47648,     0.47748,     0.47848,     0.47948,\n",
       "           0.48048,     0.48148,     0.48248,     0.48348,     0.48448,     0.48549,     0.48649,     0.48749,     0.48849,     0.48949,     0.49049,     0.49149,     0.49249,     0.49349,     0.49449,      0.4955,      0.4965,      0.4975,      0.4985,      0.4995,      0.5005,      0.5015,      0.5025,      0.5035,\n",
       "            0.5045,     0.50551,     0.50651,     0.50751,     0.50851,     0.50951,     0.51051,     0.51151,     0.51251,     0.51351,     0.51451,     0.51552,     0.51652,     0.51752,     0.51852,     0.51952,     0.52052,     0.52152,     0.52252,     0.52352,     0.52452,     0.52553,     0.52653,     0.52753,\n",
       "           0.52853,     0.52953,     0.53053,     0.53153,     0.53253,     0.53353,     0.53453,     0.53554,     0.53654,     0.53754,     0.53854,     0.53954,     0.54054,     0.54154,     0.54254,     0.54354,     0.54454,     0.54555,     0.54655,     0.54755,     0.54855,     0.54955,     0.55055,     0.55155,\n",
       "           0.55255,     0.55355,     0.55455,     0.55556,     0.55656,     0.55756,     0.55856,     0.55956,     0.56056,     0.56156,     0.56256,     0.56356,     0.56456,     0.56557,     0.56657,     0.56757,     0.56857,     0.56957,     0.57057,     0.57157,     0.57257,     0.57357,     0.57457,     0.57558,\n",
       "           0.57658,     0.57758,     0.57858,     0.57958,     0.58058,     0.58158,     0.58258,     0.58358,     0.58458,     0.58559,     0.58659,     0.58759,     0.58859,     0.58959,     0.59059,     0.59159,     0.59259,     0.59359,     0.59459,      0.5956,      0.5966,      0.5976,      0.5986,      0.5996,\n",
       "            0.6006,      0.6016,      0.6026,      0.6036,      0.6046,     0.60561,     0.60661,     0.60761,     0.60861,     0.60961,     0.61061,     0.61161,     0.61261,     0.61361,     0.61461,     0.61562,     0.61662,     0.61762,     0.61862,     0.61962,     0.62062,     0.62162,     0.62262,     0.62362,\n",
       "           0.62462,     0.62563,     0.62663,     0.62763,     0.62863,     0.62963,     0.63063,     0.63163,     0.63263,     0.63363,     0.63463,     0.63564,     0.63664,     0.63764,     0.63864,     0.63964,     0.64064,     0.64164,     0.64264,     0.64364,     0.64464,     0.64565,     0.64665,     0.64765,\n",
       "           0.64865,     0.64965,     0.65065,     0.65165,     0.65265,     0.65365,     0.65465,     0.65566,     0.65666,     0.65766,     0.65866,     0.65966,     0.66066,     0.66166,     0.66266,     0.66366,     0.66466,     0.66567,     0.66667,     0.66767,     0.66867,     0.66967,     0.67067,     0.67167,\n",
       "           0.67267,     0.67367,     0.67467,     0.67568,     0.67668,     0.67768,     0.67868,     0.67968,     0.68068,     0.68168,     0.68268,     0.68368,     0.68468,     0.68569,     0.68669,     0.68769,     0.68869,     0.68969,     0.69069,     0.69169,     0.69269,     0.69369,     0.69469,      0.6957,\n",
       "            0.6967,      0.6977,      0.6987,      0.6997,      0.7007,      0.7017,      0.7027,      0.7037,      0.7047,     0.70571,     0.70671,     0.70771,     0.70871,     0.70971,     0.71071,     0.71171,     0.71271,     0.71371,     0.71471,     0.71572,     0.71672,     0.71772,     0.71872,     0.71972,\n",
       "           0.72072,     0.72172,     0.72272,     0.72372,     0.72472,     0.72573,     0.72673,     0.72773,     0.72873,     0.72973,     0.73073,     0.73173,     0.73273,     0.73373,     0.73473,     0.73574,     0.73674,     0.73774,     0.73874,     0.73974,     0.74074,     0.74174,     0.74274,     0.74374,\n",
       "           0.74474,     0.74575,     0.74675,     0.74775,     0.74875,     0.74975,     0.75075,     0.75175,     0.75275,     0.75375,     0.75475,     0.75576,     0.75676,     0.75776,     0.75876,     0.75976,     0.76076,     0.76176,     0.76276,     0.76376,     0.76476,     0.76577,     0.76677,     0.76777,\n",
       "           0.76877,     0.76977,     0.77077,     0.77177,     0.77277,     0.77377,     0.77477,     0.77578,     0.77678,     0.77778,     0.77878,     0.77978,     0.78078,     0.78178,     0.78278,     0.78378,     0.78478,     0.78579,     0.78679,     0.78779,     0.78879,     0.78979,     0.79079,     0.79179,\n",
       "           0.79279,     0.79379,     0.79479,      0.7958,      0.7968,      0.7978,      0.7988,      0.7998,      0.8008,      0.8018,      0.8028,      0.8038,      0.8048,     0.80581,     0.80681,     0.80781,     0.80881,     0.80981,     0.81081,     0.81181,     0.81281,     0.81381,     0.81481,     0.81582,\n",
       "           0.81682,     0.81782,     0.81882,     0.81982,     0.82082,     0.82182,     0.82282,     0.82382,     0.82482,     0.82583,     0.82683,     0.82783,     0.82883,     0.82983,     0.83083,     0.83183,     0.83283,     0.83383,     0.83483,     0.83584,     0.83684,     0.83784,     0.83884,     0.83984,\n",
       "           0.84084,     0.84184,     0.84284,     0.84384,     0.84484,     0.84585,     0.84685,     0.84785,     0.84885,     0.84985,     0.85085,     0.85185,     0.85285,     0.85385,     0.85485,     0.85586,     0.85686,     0.85786,     0.85886,     0.85986,     0.86086,     0.86186,     0.86286,     0.86386,\n",
       "           0.86486,     0.86587,     0.86687,     0.86787,     0.86887,     0.86987,     0.87087,     0.87187,     0.87287,     0.87387,     0.87487,     0.87588,     0.87688,     0.87788,     0.87888,     0.87988,     0.88088,     0.88188,     0.88288,     0.88388,     0.88488,     0.88589,     0.88689,     0.88789,\n",
       "           0.88889,     0.88989,     0.89089,     0.89189,     0.89289,     0.89389,     0.89489,      0.8959,      0.8969,      0.8979,      0.8989,      0.8999,      0.9009,      0.9019,      0.9029,      0.9039,      0.9049,     0.90591,     0.90691,     0.90791,     0.90891,     0.90991,     0.91091,     0.91191,\n",
       "           0.91291,     0.91391,     0.91491,     0.91592,     0.91692,     0.91792,     0.91892,     0.91992,     0.92092,     0.92192,     0.92292,     0.92392,     0.92492,     0.92593,     0.92693,     0.92793,     0.92893,     0.92993,     0.93093,     0.93193,     0.93293,     0.93393,     0.93493,     0.93594,\n",
       "           0.93694,     0.93794,     0.93894,     0.93994,     0.94094,     0.94194,     0.94294,     0.94394,     0.94494,     0.94595,     0.94695,     0.94795,     0.94895,     0.94995,     0.95095,     0.95195,     0.95295,     0.95395,     0.95495,     0.95596,     0.95696,     0.95796,     0.95896,     0.95996,\n",
       "           0.96096,     0.96196,     0.96296,     0.96396,     0.96496,     0.96597,     0.96697,     0.96797,     0.96897,     0.96997,     0.97097,     0.97197,     0.97297,     0.97397,     0.97497,     0.97598,     0.97698,     0.97798,     0.97898,     0.97998,     0.98098,     0.98198,     0.98298,     0.98398,\n",
       "           0.98498,     0.98599,     0.98699,     0.98799,     0.98899,     0.98999,     0.99099,     0.99199,     0.99299,     0.99399,     0.99499,       0.996,       0.997,       0.998,       0.999,           1]), array([[          1,           1,           1,           1,           1,           1,           1,           1,           1,           1,           1,           1,           1,           1,           1,           1,           1,           1,           1,           1,           1,           1,           1,\n",
       "                  1,           1,           1,           1,           1,           1,           1,           1,           1,           1,           1,           1,           1,           1,           1,           1,           1,           1,           1,           1,           1,           1,           1,\n",
       "                  1,           1,           1,           1,           1,           1,           1,           1,           1,           1,           1,           1,           1,           1,           1,           1,           1,           1,           1,           1,           1,           1,           1,\n",
       "                  1,           1,           1,           1,           1,           1,           1,           1,           1,           1,           1,           1,           1,           1,           1,           1,           1,           1,           1,           1,           1,           1,           1,\n",
       "                  1,           1,           1,           1,           1,           1,           1,           1,           1,           1,           1,           1,           1,           1,           1,           1,           1,           1,           1,           1,           1,           1,           1,\n",
       "                  1,           1,           1,           1,           1,           1,           1,           1,           1,           1,           1,           1,           1,           1,           1,           1,           1,           1,           1,           1,           1,           1,           1,\n",
       "                  1,           1,           1,           1,           1,           1,           1,           1,           1,           1,           1,           1,           1,           1,           1,           1,           1,           1,           1,           1,           1,           1,           1,\n",
       "                  1,           1,           1,           1,           1,           1,           1,           1,           1,           1,           1,           1,           1,           1,           1,           1,           1,           1,           1,           1,           1,           1,           1,\n",
       "                  1,           1,           1,           1,           1,           1,           1,           1,           1,           1,           1,           1,           1,           1,           1,           1,           1,           1,           1,           1,           1,           1,           1,\n",
       "                  1,           1,           1,           1,           1,           1,           1,           1,           1,           1,           1,           1,           1,           1,           1,           1,           1,           1,           1,           1,           1,           1,           1,\n",
       "                  1,           1,           1,           1,           1,           1,           1,           1,           1,           1,           1,           1,           1,           1,           1,           1,           1,           1,           1,           1,           1,           1,           1,\n",
       "                  1,           1,           1,           1,           1,           1,           1,           1,           1,           1,           1,           1,           1,           1,           1,           1,           1,           1,           1,           1,     0.99874,     0.99874,     0.99874,\n",
       "            0.99874,     0.99874,     0.99874,     0.99874,     0.99874,     0.99874,     0.99874,     0.99874,     0.99874,     0.99874,     0.99874,     0.99874,     0.99874,     0.99874,     0.99874,     0.99874,     0.99874,     0.99874,     0.99874,     0.99874,     0.99874,     0.99874,     0.99874,\n",
       "            0.99874,     0.99874,     0.99874,     0.99874,     0.99874,     0.99874,     0.99874,     0.99874,     0.99874,     0.99874,     0.99874,     0.99874,     0.99874,     0.99874,     0.99874,     0.99874,     0.99874,     0.99874,     0.99874,     0.99874,     0.99874,     0.99874,     0.99874,\n",
       "            0.99874,     0.99874,     0.99874,     0.99874,     0.99874,     0.99874,     0.99874,     0.99874,     0.99874,     0.99874,     0.99874,     0.99874,     0.99874,     0.99874,     0.99874,     0.99874,     0.99874,     0.99874,     0.99874,     0.99874,     0.99874,     0.99874,     0.99874,\n",
       "            0.99874,     0.99874,     0.99874,     0.99874,     0.99874,     0.99874,     0.99874,     0.99874,     0.99874,     0.99874,     0.99874,     0.99874,     0.99874,     0.99874,     0.99874,     0.99874,      0.9986,      0.9986,      0.9986,      0.9986,      0.9986,      0.9986,      0.9986,\n",
       "             0.9986,      0.9986,      0.9986,      0.9986,      0.9986,      0.9986,      0.9986,      0.9986,      0.9986,      0.9986,      0.9986,      0.9986,      0.9986,      0.9986,      0.9986,      0.9986,      0.9986,      0.9986,      0.9986,      0.9986,      0.9986,      0.9986,      0.9986,\n",
       "             0.9986,      0.9986,      0.9986,      0.9986,      0.9986,      0.9986,      0.9986,      0.9986,      0.9986,      0.9986,      0.9986,      0.9986,      0.9986,      0.9986,      0.9986,      0.9986,      0.9986,      0.9986,      0.9986,      0.9986,      0.9986,      0.9986,      0.9986,\n",
       "             0.9986,      0.9986,      0.9986,      0.9986,      0.9986,      0.9986,      0.9986,      0.9986,      0.9986,      0.9986,      0.9986,      0.9986,      0.9986,      0.9986,      0.9986,      0.9986,      0.9986,      0.9986,      0.9986,      0.9986,      0.9986,      0.9986,      0.9986,\n",
       "             0.9986,      0.9986,      0.9986,      0.9986,      0.9986,      0.9986,      0.9986,      0.9986,      0.9986,      0.9986,      0.9986,      0.9986,      0.9986,      0.9986,      0.9986,      0.9986,      0.9986,      0.9986,      0.9986,      0.9986,      0.9986,      0.9986,      0.9986,\n",
       "             0.9986,      0.9986,      0.9986,      0.9986,      0.9986,      0.9986,      0.9986,      0.9986,      0.9986,      0.9986,      0.9986,      0.9986,      0.9986,      0.9986,      0.9986,      0.9986,      0.9986,      0.9986,      0.9986,      0.9986,      0.9986,      0.9986,      0.9986,\n",
       "             0.9986,      0.9986,      0.9986,      0.9986,      0.9986,      0.9986,      0.9986,      0.9986,      0.9986,      0.9986,      0.9986,      0.9986,      0.9986,      0.9986,      0.9986,      0.9986,      0.9986,      0.9986,      0.9986,      0.9986,      0.9986,      0.9986,      0.9986,\n",
       "             0.9986,      0.9986,      0.9986,      0.9986,      0.9986,      0.9986,      0.9986,      0.9986,      0.9986,      0.9986,      0.9986,      0.9986,      0.9986,      0.9986,      0.9986,      0.9986,      0.9986,      0.9986,      0.9986,      0.9986,      0.9986,      0.9986,      0.9986,\n",
       "             0.9986,      0.9986,      0.9986,      0.9986,      0.9986,      0.9986,      0.9986,      0.9986,      0.9986,      0.9986,      0.9986,      0.9986,      0.9986,      0.9986,      0.9986,      0.9986,      0.9986,      0.9986,      0.9986,      0.9986,      0.9986,      0.9986,      0.9986,\n",
       "             0.9986,      0.9986,      0.9986,      0.9986,      0.9986,      0.9986,      0.9986,      0.9986,      0.9986,      0.9986,      0.9986,      0.9986,      0.9986,      0.9986,      0.9986,      0.9986,      0.9986,      0.9986,      0.9986,      0.9986,      0.9986,      0.9986,      0.9986,\n",
       "             0.9986,      0.9986,      0.9986,      0.9986,      0.9986,      0.9986,      0.9986,      0.9986,      0.9986,      0.9986,      0.9986,      0.9986,      0.9986,      0.9986,      0.9986,      0.9986,      0.9986,      0.9986,      0.9986,      0.9986,      0.9986,      0.9986,      0.9986,\n",
       "             0.9986,      0.9986,      0.9986,      0.9986,      0.9986,      0.9986,      0.9986,      0.9986,      0.9986,      0.9986,      0.9986,      0.9986,      0.9986,      0.9986,      0.9986,      0.9986,      0.9986,      0.9986,      0.9986,      0.9986,      0.9986,      0.9986,      0.9986,\n",
       "             0.9986,      0.9986,      0.9986,      0.9986,      0.9986,      0.9986,      0.9986,      0.9986,      0.9986,      0.9986,      0.9986,      0.9986,      0.9986,      0.9986,      0.9986,      0.9986,      0.9986,      0.9986,      0.9986,      0.9986,      0.9986,      0.9986,      0.9986,\n",
       "             0.9986,      0.9986,      0.9986,      0.9986,      0.9986,      0.9986,     0.99799,     0.99799,     0.99799,     0.99799,     0.99799,     0.99799,     0.99799,     0.99799,     0.99799,     0.99799,     0.99799,     0.99799,     0.99799,     0.99799,     0.99799,     0.99799,     0.99799,\n",
       "            0.99799,     0.99799,     0.99799,     0.99799,     0.99799,     0.99799,     0.99799,     0.99799,     0.99799,     0.99799,     0.99738,     0.99738,     0.99738,     0.99738,     0.99738,     0.99738,     0.99738,     0.99738,     0.99738,     0.99738,     0.99738,     0.99738,     0.99738,\n",
       "            0.99738,     0.99738,     0.99738,     0.99695,     0.99695,     0.99695,     0.99695,     0.99695,     0.99695,     0.99695,     0.99695,     0.99695,     0.99695,     0.99695,     0.99695,     0.99695,     0.99695,     0.99695,     0.99695,     0.99695,     0.99695,     0.99695,     0.99695,\n",
       "            0.99695,     0.99695,     0.99695,     0.99695,     0.99695,     0.99695,     0.99695,     0.99695,     0.99695,     0.99695,     0.99695,     0.99695,     0.99695,     0.99695,     0.99695,     0.99695,     0.99695,     0.99695,     0.99695,     0.99695,     0.99695,     0.99695,     0.99695,\n",
       "            0.99695,     0.99695,     0.99695,     0.99695,     0.99695,     0.99695,     0.99695,     0.99695,     0.99695,     0.99651,     0.99651,     0.99651,     0.99651,     0.99651,     0.99651,     0.99651,     0.99651,     0.99651,     0.99651,     0.99651,     0.99651,     0.99651,     0.99651,\n",
       "            0.99651,     0.99651,     0.99651,     0.99651,     0.99651,     0.99651,     0.99651,     0.99651,     0.99651,     0.99651,     0.99651,     0.99651,     0.99651,     0.99651,     0.99651,     0.99651,     0.99651,     0.99651,     0.99651,     0.99651,     0.99619,     0.99619,     0.99619,\n",
       "            0.99619,     0.99619,     0.99619,     0.99619,     0.99619,     0.99619,     0.99619,     0.99619,     0.99619,     0.99619,     0.99619,     0.99619,     0.99619,     0.99619,     0.99619,     0.99619,     0.99619,     0.99619,     0.99619,     0.99619,     0.99619,     0.99619,     0.99619,\n",
       "            0.99619,     0.99619,     0.99619,     0.99619,     0.99619,     0.99619,     0.99619,     0.99619,     0.99619,     0.99619,     0.99619,     0.99619,     0.99619,     0.99619,     0.99619,     0.99619,     0.99619,     0.99619,     0.99619,     0.99619,     0.99619,     0.99619,     0.99619,\n",
       "            0.99619,     0.99619,     0.99619,     0.99619,     0.99619,     0.99567,     0.99567,     0.99567,     0.99567,     0.99515,     0.99515,     0.99515,     0.99515,     0.99515,     0.99463,     0.99378,     0.99378,     0.99378,     0.99378,     0.99378,     0.99378,     0.99378,     0.99378,\n",
       "            0.99378,     0.99378,     0.99378,     0.99378,     0.99378,     0.99378,     0.99378,     0.99378,     0.99378,     0.99378,     0.99378,     0.99378,     0.99378,     0.99378,     0.99378,     0.99378,     0.99378,     0.99378,     0.99378,     0.99378,     0.99378,     0.99378,     0.99327,\n",
       "            0.99277,     0.99229,     0.99229,     0.99229,     0.99229,     0.99183,     0.99183,     0.99183,     0.99183,     0.99183,     0.99133,     0.99091,     0.99091,     0.99091,     0.99091,     0.99091,     0.99091,     0.99091,     0.99091,     0.99091,     0.99046,     0.99046,     0.99046,\n",
       "            0.99046,     0.98997,      0.9895,      0.9895,     0.98856,     0.98856,     0.98856,     0.98856,     0.98663,     0.98663,     0.98663,     0.98617,     0.98521,     0.98474,     0.98427,     0.98381,      0.9819,     0.98002,     0.98002,     0.97956,     0.97863,     0.97535,     0.97446,\n",
       "            0.97446,     0.97214,     0.97174,     0.97174,     0.97038,     0.96949,     0.96905,     0.96588,     0.96545,     0.96235,     0.96235,     0.96192,     0.96105,      0.9575,     0.95444,     0.95139,     0.94795,      0.9471,     0.94455,     0.94206,     0.93781,     0.93279,     0.90039,\n",
       "            0.88965,      0.8811,     0.86398,     0.84307,     0.83474,     0.83253,     0.79105,     0.77881,     0.73982,      0.7374,     0.68836,     0.62097,     0.59177,     0.54628,     0.54482,     0.51006,     0.38258,     0.27527,     0.26821,     0.26115,      0.2541,     0.24704,     0.23998,\n",
       "            0.23292,     0.22586,      0.2188,     0.21175,     0.20469,     0.19763,     0.19057,     0.18351,     0.17646,      0.1694,     0.16234,     0.15528,     0.14822,     0.14116,     0.13411,     0.12705,     0.11999,     0.11293,     0.10587,    0.098815,    0.091757,    0.084699,     0.07764,\n",
       "           0.070582,    0.063524,    0.056466,    0.049408,    0.042349,    0.035291,    0.028233,    0.021175,    0.014116,   0.0070582,           0]]), 'Recall', 'Precision'], [array([          0,    0.001001,    0.002002,    0.003003,    0.004004,    0.005005,    0.006006,    0.007007,    0.008008,    0.009009,     0.01001,    0.011011,    0.012012,    0.013013,    0.014014,    0.015015,    0.016016,    0.017017,    0.018018,    0.019019,     0.02002,    0.021021,    0.022022,    0.023023,\n",
       "          0.024024,    0.025025,    0.026026,    0.027027,    0.028028,    0.029029,     0.03003,    0.031031,    0.032032,    0.033033,    0.034034,    0.035035,    0.036036,    0.037037,    0.038038,    0.039039,     0.04004,    0.041041,    0.042042,    0.043043,    0.044044,    0.045045,    0.046046,    0.047047,\n",
       "          0.048048,    0.049049,     0.05005,    0.051051,    0.052052,    0.053053,    0.054054,    0.055055,    0.056056,    0.057057,    0.058058,    0.059059,     0.06006,    0.061061,    0.062062,    0.063063,    0.064064,    0.065065,    0.066066,    0.067067,    0.068068,    0.069069,     0.07007,    0.071071,\n",
       "          0.072072,    0.073073,    0.074074,    0.075075,    0.076076,    0.077077,    0.078078,    0.079079,     0.08008,    0.081081,    0.082082,    0.083083,    0.084084,    0.085085,    0.086086,    0.087087,    0.088088,    0.089089,     0.09009,    0.091091,    0.092092,    0.093093,    0.094094,    0.095095,\n",
       "          0.096096,    0.097097,    0.098098,    0.099099,      0.1001,      0.1011,      0.1021,      0.1031,      0.1041,     0.10511,     0.10611,     0.10711,     0.10811,     0.10911,     0.11011,     0.11111,     0.11211,     0.11311,     0.11411,     0.11512,     0.11612,     0.11712,     0.11812,     0.11912,\n",
       "           0.12012,     0.12112,     0.12212,     0.12312,     0.12412,     0.12513,     0.12613,     0.12713,     0.12813,     0.12913,     0.13013,     0.13113,     0.13213,     0.13313,     0.13413,     0.13514,     0.13614,     0.13714,     0.13814,     0.13914,     0.14014,     0.14114,     0.14214,     0.14314,\n",
       "           0.14414,     0.14515,     0.14615,     0.14715,     0.14815,     0.14915,     0.15015,     0.15115,     0.15215,     0.15315,     0.15415,     0.15516,     0.15616,     0.15716,     0.15816,     0.15916,     0.16016,     0.16116,     0.16216,     0.16316,     0.16416,     0.16517,     0.16617,     0.16717,\n",
       "           0.16817,     0.16917,     0.17017,     0.17117,     0.17217,     0.17317,     0.17417,     0.17518,     0.17618,     0.17718,     0.17818,     0.17918,     0.18018,     0.18118,     0.18218,     0.18318,     0.18418,     0.18519,     0.18619,     0.18719,     0.18819,     0.18919,     0.19019,     0.19119,\n",
       "           0.19219,     0.19319,     0.19419,      0.1952,      0.1962,      0.1972,      0.1982,      0.1992,      0.2002,      0.2012,      0.2022,      0.2032,      0.2042,     0.20521,     0.20621,     0.20721,     0.20821,     0.20921,     0.21021,     0.21121,     0.21221,     0.21321,     0.21421,     0.21522,\n",
       "           0.21622,     0.21722,     0.21822,     0.21922,     0.22022,     0.22122,     0.22222,     0.22322,     0.22422,     0.22523,     0.22623,     0.22723,     0.22823,     0.22923,     0.23023,     0.23123,     0.23223,     0.23323,     0.23423,     0.23524,     0.23624,     0.23724,     0.23824,     0.23924,\n",
       "           0.24024,     0.24124,     0.24224,     0.24324,     0.24424,     0.24525,     0.24625,     0.24725,     0.24825,     0.24925,     0.25025,     0.25125,     0.25225,     0.25325,     0.25425,     0.25526,     0.25626,     0.25726,     0.25826,     0.25926,     0.26026,     0.26126,     0.26226,     0.26326,\n",
       "           0.26426,     0.26527,     0.26627,     0.26727,     0.26827,     0.26927,     0.27027,     0.27127,     0.27227,     0.27327,     0.27427,     0.27528,     0.27628,     0.27728,     0.27828,     0.27928,     0.28028,     0.28128,     0.28228,     0.28328,     0.28428,     0.28529,     0.28629,     0.28729,\n",
       "           0.28829,     0.28929,     0.29029,     0.29129,     0.29229,     0.29329,     0.29429,      0.2953,      0.2963,      0.2973,      0.2983,      0.2993,      0.3003,      0.3013,      0.3023,      0.3033,      0.3043,     0.30531,     0.30631,     0.30731,     0.30831,     0.30931,     0.31031,     0.31131,\n",
       "           0.31231,     0.31331,     0.31431,     0.31532,     0.31632,     0.31732,     0.31832,     0.31932,     0.32032,     0.32132,     0.32232,     0.32332,     0.32432,     0.32533,     0.32633,     0.32733,     0.32833,     0.32933,     0.33033,     0.33133,     0.33233,     0.33333,     0.33433,     0.33534,\n",
       "           0.33634,     0.33734,     0.33834,     0.33934,     0.34034,     0.34134,     0.34234,     0.34334,     0.34434,     0.34535,     0.34635,     0.34735,     0.34835,     0.34935,     0.35035,     0.35135,     0.35235,     0.35335,     0.35435,     0.35536,     0.35636,     0.35736,     0.35836,     0.35936,\n",
       "           0.36036,     0.36136,     0.36236,     0.36336,     0.36436,     0.36537,     0.36637,     0.36737,     0.36837,     0.36937,     0.37037,     0.37137,     0.37237,     0.37337,     0.37437,     0.37538,     0.37638,     0.37738,     0.37838,     0.37938,     0.38038,     0.38138,     0.38238,     0.38338,\n",
       "           0.38438,     0.38539,     0.38639,     0.38739,     0.38839,     0.38939,     0.39039,     0.39139,     0.39239,     0.39339,     0.39439,      0.3954,      0.3964,      0.3974,      0.3984,      0.3994,      0.4004,      0.4014,      0.4024,      0.4034,      0.4044,     0.40541,     0.40641,     0.40741,\n",
       "           0.40841,     0.40941,     0.41041,     0.41141,     0.41241,     0.41341,     0.41441,     0.41542,     0.41642,     0.41742,     0.41842,     0.41942,     0.42042,     0.42142,     0.42242,     0.42342,     0.42442,     0.42543,     0.42643,     0.42743,     0.42843,     0.42943,     0.43043,     0.43143,\n",
       "           0.43243,     0.43343,     0.43443,     0.43544,     0.43644,     0.43744,     0.43844,     0.43944,     0.44044,     0.44144,     0.44244,     0.44344,     0.44444,     0.44545,     0.44645,     0.44745,     0.44845,     0.44945,     0.45045,     0.45145,     0.45245,     0.45345,     0.45445,     0.45546,\n",
       "           0.45646,     0.45746,     0.45846,     0.45946,     0.46046,     0.46146,     0.46246,     0.46346,     0.46446,     0.46547,     0.46647,     0.46747,     0.46847,     0.46947,     0.47047,     0.47147,     0.47247,     0.47347,     0.47447,     0.47548,     0.47648,     0.47748,     0.47848,     0.47948,\n",
       "           0.48048,     0.48148,     0.48248,     0.48348,     0.48448,     0.48549,     0.48649,     0.48749,     0.48849,     0.48949,     0.49049,     0.49149,     0.49249,     0.49349,     0.49449,      0.4955,      0.4965,      0.4975,      0.4985,      0.4995,      0.5005,      0.5015,      0.5025,      0.5035,\n",
       "            0.5045,     0.50551,     0.50651,     0.50751,     0.50851,     0.50951,     0.51051,     0.51151,     0.51251,     0.51351,     0.51451,     0.51552,     0.51652,     0.51752,     0.51852,     0.51952,     0.52052,     0.52152,     0.52252,     0.52352,     0.52452,     0.52553,     0.52653,     0.52753,\n",
       "           0.52853,     0.52953,     0.53053,     0.53153,     0.53253,     0.53353,     0.53453,     0.53554,     0.53654,     0.53754,     0.53854,     0.53954,     0.54054,     0.54154,     0.54254,     0.54354,     0.54454,     0.54555,     0.54655,     0.54755,     0.54855,     0.54955,     0.55055,     0.55155,\n",
       "           0.55255,     0.55355,     0.55455,     0.55556,     0.55656,     0.55756,     0.55856,     0.55956,     0.56056,     0.56156,     0.56256,     0.56356,     0.56456,     0.56557,     0.56657,     0.56757,     0.56857,     0.56957,     0.57057,     0.57157,     0.57257,     0.57357,     0.57457,     0.57558,\n",
       "           0.57658,     0.57758,     0.57858,     0.57958,     0.58058,     0.58158,     0.58258,     0.58358,     0.58458,     0.58559,     0.58659,     0.58759,     0.58859,     0.58959,     0.59059,     0.59159,     0.59259,     0.59359,     0.59459,      0.5956,      0.5966,      0.5976,      0.5986,      0.5996,\n",
       "            0.6006,      0.6016,      0.6026,      0.6036,      0.6046,     0.60561,     0.60661,     0.60761,     0.60861,     0.60961,     0.61061,     0.61161,     0.61261,     0.61361,     0.61461,     0.61562,     0.61662,     0.61762,     0.61862,     0.61962,     0.62062,     0.62162,     0.62262,     0.62362,\n",
       "           0.62462,     0.62563,     0.62663,     0.62763,     0.62863,     0.62963,     0.63063,     0.63163,     0.63263,     0.63363,     0.63463,     0.63564,     0.63664,     0.63764,     0.63864,     0.63964,     0.64064,     0.64164,     0.64264,     0.64364,     0.64464,     0.64565,     0.64665,     0.64765,\n",
       "           0.64865,     0.64965,     0.65065,     0.65165,     0.65265,     0.65365,     0.65465,     0.65566,     0.65666,     0.65766,     0.65866,     0.65966,     0.66066,     0.66166,     0.66266,     0.66366,     0.66466,     0.66567,     0.66667,     0.66767,     0.66867,     0.66967,     0.67067,     0.67167,\n",
       "           0.67267,     0.67367,     0.67467,     0.67568,     0.67668,     0.67768,     0.67868,     0.67968,     0.68068,     0.68168,     0.68268,     0.68368,     0.68468,     0.68569,     0.68669,     0.68769,     0.68869,     0.68969,     0.69069,     0.69169,     0.69269,     0.69369,     0.69469,      0.6957,\n",
       "            0.6967,      0.6977,      0.6987,      0.6997,      0.7007,      0.7017,      0.7027,      0.7037,      0.7047,     0.70571,     0.70671,     0.70771,     0.70871,     0.70971,     0.71071,     0.71171,     0.71271,     0.71371,     0.71471,     0.71572,     0.71672,     0.71772,     0.71872,     0.71972,\n",
       "           0.72072,     0.72172,     0.72272,     0.72372,     0.72472,     0.72573,     0.72673,     0.72773,     0.72873,     0.72973,     0.73073,     0.73173,     0.73273,     0.73373,     0.73473,     0.73574,     0.73674,     0.73774,     0.73874,     0.73974,     0.74074,     0.74174,     0.74274,     0.74374,\n",
       "           0.74474,     0.74575,     0.74675,     0.74775,     0.74875,     0.74975,     0.75075,     0.75175,     0.75275,     0.75375,     0.75475,     0.75576,     0.75676,     0.75776,     0.75876,     0.75976,     0.76076,     0.76176,     0.76276,     0.76376,     0.76476,     0.76577,     0.76677,     0.76777,\n",
       "           0.76877,     0.76977,     0.77077,     0.77177,     0.77277,     0.77377,     0.77477,     0.77578,     0.77678,     0.77778,     0.77878,     0.77978,     0.78078,     0.78178,     0.78278,     0.78378,     0.78478,     0.78579,     0.78679,     0.78779,     0.78879,     0.78979,     0.79079,     0.79179,\n",
       "           0.79279,     0.79379,     0.79479,      0.7958,      0.7968,      0.7978,      0.7988,      0.7998,      0.8008,      0.8018,      0.8028,      0.8038,      0.8048,     0.80581,     0.80681,     0.80781,     0.80881,     0.80981,     0.81081,     0.81181,     0.81281,     0.81381,     0.81481,     0.81582,\n",
       "           0.81682,     0.81782,     0.81882,     0.81982,     0.82082,     0.82182,     0.82282,     0.82382,     0.82482,     0.82583,     0.82683,     0.82783,     0.82883,     0.82983,     0.83083,     0.83183,     0.83283,     0.83383,     0.83483,     0.83584,     0.83684,     0.83784,     0.83884,     0.83984,\n",
       "           0.84084,     0.84184,     0.84284,     0.84384,     0.84484,     0.84585,     0.84685,     0.84785,     0.84885,     0.84985,     0.85085,     0.85185,     0.85285,     0.85385,     0.85485,     0.85586,     0.85686,     0.85786,     0.85886,     0.85986,     0.86086,     0.86186,     0.86286,     0.86386,\n",
       "           0.86486,     0.86587,     0.86687,     0.86787,     0.86887,     0.86987,     0.87087,     0.87187,     0.87287,     0.87387,     0.87487,     0.87588,     0.87688,     0.87788,     0.87888,     0.87988,     0.88088,     0.88188,     0.88288,     0.88388,     0.88488,     0.88589,     0.88689,     0.88789,\n",
       "           0.88889,     0.88989,     0.89089,     0.89189,     0.89289,     0.89389,     0.89489,      0.8959,      0.8969,      0.8979,      0.8989,      0.8999,      0.9009,      0.9019,      0.9029,      0.9039,      0.9049,     0.90591,     0.90691,     0.90791,     0.90891,     0.90991,     0.91091,     0.91191,\n",
       "           0.91291,     0.91391,     0.91491,     0.91592,     0.91692,     0.91792,     0.91892,     0.91992,     0.92092,     0.92192,     0.92292,     0.92392,     0.92492,     0.92593,     0.92693,     0.92793,     0.92893,     0.92993,     0.93093,     0.93193,     0.93293,     0.93393,     0.93493,     0.93594,\n",
       "           0.93694,     0.93794,     0.93894,     0.93994,     0.94094,     0.94194,     0.94294,     0.94394,     0.94494,     0.94595,     0.94695,     0.94795,     0.94895,     0.94995,     0.95095,     0.95195,     0.95295,     0.95395,     0.95495,     0.95596,     0.95696,     0.95796,     0.95896,     0.95996,\n",
       "           0.96096,     0.96196,     0.96296,     0.96396,     0.96496,     0.96597,     0.96697,     0.96797,     0.96897,     0.96997,     0.97097,     0.97197,     0.97297,     0.97397,     0.97497,     0.97598,     0.97698,     0.97798,     0.97898,     0.97998,     0.98098,     0.98198,     0.98298,     0.98398,\n",
       "           0.98498,     0.98599,     0.98699,     0.98799,     0.98899,     0.98999,     0.99099,     0.99199,     0.99299,     0.99399,     0.99499,       0.996,       0.997,       0.998,       0.999,           1]), array([[    0.42914,     0.42933,     0.54076,      0.6033,     0.64737,     0.67956,     0.70128,     0.72112,     0.73668,     0.74754,     0.76089,     0.77054,     0.77864,     0.78574,     0.79279,     0.79963,     0.80541,      0.8118,     0.81746,     0.82322,      0.8275,     0.83152,     0.83419,\n",
       "            0.83966,     0.84224,     0.84743,     0.84973,     0.85291,     0.85556,     0.85795,     0.86123,     0.86372,     0.86632,     0.86829,     0.86935,     0.87003,     0.87437,     0.87678,      0.8798,     0.88206,     0.88374,     0.88576,     0.88668,     0.88748,     0.88805,     0.88881,\n",
       "            0.88985,     0.89073,     0.89135,     0.89173,     0.89278,     0.89461,     0.89577,     0.89662,     0.89824,     0.89863,     0.89941,     0.90028,     0.90049,     0.90199,     0.90315,     0.90345,     0.90416,     0.90492,     0.90592,     0.90653,     0.90747,     0.90843,     0.90899,\n",
       "            0.90936,      0.9098,     0.91033,     0.91066,     0.91184,     0.91186,     0.91251,     0.91303,     0.91351,     0.91347,      0.9137,     0.91405,     0.91431,     0.91449,      0.9148,     0.91588,      0.9167,     0.91772,     0.91876,     0.91948,     0.91988,     0.92002,     0.91997,\n",
       "            0.92068,       0.921,     0.92144,     0.92182,     0.92217,     0.92248,     0.92316,     0.92381,     0.92413,     0.92455,     0.92504,     0.92538,      0.9255,     0.92588,     0.92619,     0.92665,     0.92699,     0.92721,     0.92761,     0.92817,     0.92853,     0.92882,     0.92911,\n",
       "             0.9297,     0.92978,     0.92986,     0.93089,     0.93118,      0.9313,     0.93174,     0.93235,      0.9327,     0.93282,     0.93325,     0.93337,     0.93367,     0.93378,      0.9339,      0.9341,     0.93416,     0.93422,     0.93428,     0.93475,     0.93502,     0.93532,     0.93549,\n",
       "            0.93563,     0.93592,     0.93642,      0.9367,     0.93688,     0.93713,     0.93732,     0.93741,     0.93732,     0.93722,      0.9375,     0.93762,     0.93792,      0.9381,      0.9386,     0.93881,     0.93894,     0.93901,     0.93909,     0.93951,     0.93937,     0.93942,     0.93945,\n",
       "             0.9393,     0.93944,        0.94,     0.94049,     0.94064,     0.94075,     0.94109,     0.94131,     0.94115,     0.94112,     0.94125,     0.94119,     0.94132,     0.94139,     0.94146,     0.94154,      0.9417,     0.94151,     0.94178,     0.94191,     0.94223,     0.94218,      0.9424,\n",
       "            0.94247,     0.94255,     0.94233,     0.94238,     0.94244,     0.94249,     0.94264,     0.94265,     0.94251,      0.9425,     0.94259,     0.94268,     0.94302,     0.94295,       0.943,     0.94323,     0.94361,     0.94358,     0.94357,     0.94367,     0.94392,     0.94372,      0.9438,\n",
       "            0.94387,     0.94419,     0.94434,     0.94469,     0.94467,     0.94461,     0.94481,     0.94501,     0.94512,     0.94505,     0.94511,     0.94501,     0.94515,     0.94522,      0.9453,     0.94539,     0.94557,     0.94554,     0.94551,     0.94548,     0.94545,     0.94542,     0.94539,\n",
       "            0.94536,     0.94531,     0.94516,     0.94526,     0.94543,     0.94564,     0.94578,     0.94586,     0.94593,     0.94608,     0.94619,     0.94622,     0.94625,     0.94628,     0.94631,     0.94634,     0.94637,      0.9464,     0.94647,     0.94654,     0.94661,     0.94666,      0.9467,\n",
       "            0.94675,      0.9468,     0.94659,     0.94669,     0.94679,     0.94667,     0.94664,      0.9467,     0.94662,     0.94646,     0.94638,      0.9463,     0.94621,     0.94611,     0.94599,     0.94582,     0.94602,     0.94607,     0.94611,     0.94616,      0.9462,     0.94607,     0.94599,\n",
       "            0.94601,     0.94604,     0.94606,     0.94608,      0.9461,     0.94612,     0.94614,     0.94617,     0.94619,     0.94633,      0.9467,     0.94704,     0.94697,      0.9469,     0.94683,     0.94678,     0.94672,     0.94667,     0.94661,     0.94666,      0.9468,     0.94639,     0.94614,\n",
       "             0.9463,     0.94644,     0.94664,     0.94681,     0.94693,     0.94723,     0.94739,     0.94751,     0.94761,     0.94756,      0.9475,     0.94745,      0.9474,     0.94759,     0.94754,     0.94749,     0.94745,      0.9474,     0.94735,     0.94728,      0.9472,     0.94711,     0.94706,\n",
       "            0.94701,     0.94696,     0.94691,     0.94686,     0.94708,     0.94721,     0.94725,     0.94713,     0.94706,     0.94709,     0.94712,     0.94714,     0.94717,      0.9472,     0.94723,     0.94726,     0.94729,     0.94731,     0.94733,     0.94735,     0.94737,      0.9474,     0.94742,\n",
       "            0.94744,     0.94746,     0.94748,     0.94744,     0.94722,     0.94697,      0.9469,     0.94683,     0.94676,     0.94656,     0.94628,     0.94644,     0.94625,     0.94647,     0.94656,     0.94664,     0.94687,     0.94701,     0.94707,       0.947,     0.94694,     0.94687,     0.94701,\n",
       "            0.94693,     0.94675,     0.94658,     0.94646,     0.94635,     0.94621,     0.94609,     0.94613,     0.94617,      0.9462,     0.94624,     0.94628,     0.94638,     0.94646,     0.94635,     0.94641,      0.9464,     0.94626,     0.94646,     0.94656,     0.94664,     0.94688,      0.9467,\n",
       "            0.94691,     0.94697,     0.94704,      0.9471,     0.94715,     0.94719,     0.94723,     0.94727,     0.94731,     0.94734,     0.94728,     0.94723,     0.94717,     0.94711,     0.94711,     0.94714,     0.94716,     0.94718,     0.94721,     0.94723,     0.94725,     0.94728,      0.9473,\n",
       "            0.94731,     0.94724,     0.94717,      0.9471,     0.94717,     0.94727,     0.94721,     0.94715,     0.94708,       0.947,     0.94689,     0.94681,      0.9465,      0.9464,      0.9463,     0.94631,     0.94636,     0.94641,     0.94646,     0.94652,     0.94661,     0.94669,     0.94688,\n",
       "            0.94672,     0.94675,     0.94678,     0.94682,     0.94685,     0.94688,     0.94691,      0.9467,     0.94689,     0.94683,     0.94677,     0.94671,     0.94665,     0.94672,      0.9468,     0.94687,      0.9469,     0.94692,     0.94695,     0.94697,       0.947,     0.94702,     0.94705,\n",
       "            0.94707,     0.94711,     0.94723,     0.94725,     0.94692,     0.94678,     0.94672,     0.94667,     0.94661,     0.94659,     0.94664,     0.94669,     0.94674,     0.94679,     0.94672,     0.94663,     0.94655,     0.94649,     0.94642,     0.94636,      0.9463,     0.94643,     0.94628,\n",
       "            0.94634,      0.9464,     0.94645,     0.94645,     0.94625,     0.94618,     0.94612,     0.94605,     0.94601,     0.94608,     0.94615,     0.94622,     0.94615,     0.94607,     0.94599,     0.94618,     0.94603,     0.94568,     0.94561,     0.94555,     0.94549,      0.9455,     0.94566,\n",
       "             0.9454,     0.94531,     0.94523,     0.94508,     0.94479,     0.94443,     0.94455,      0.9447,     0.94486,     0.94499,     0.94506,     0.94491,     0.94486,     0.94489,     0.94493,     0.94496,     0.94499,     0.94503,     0.94506,     0.94476,     0.94469,     0.94462,     0.94455,\n",
       "            0.94451,     0.94447,     0.94443,     0.94439,     0.94435,     0.94414,     0.94364,     0.94353,     0.94349,     0.94345,     0.94341,     0.94336,     0.94332,     0.94332,     0.94346,     0.94321,     0.94297,      0.9429,     0.94284,     0.94277,     0.94269,      0.9426,     0.94251,\n",
       "            0.94254,     0.94259,     0.94264,     0.94269,     0.94262,     0.94237,     0.94225,     0.94237,     0.94217,     0.94205,     0.94168,     0.94163,     0.94159,     0.94154,     0.94149,     0.94144,     0.94128,     0.94112,     0.94102,     0.94086,     0.94059,     0.94046,      0.9401,\n",
       "               0.94,     0.93993,     0.94003,     0.94013,     0.93995,     0.93968,     0.93909,     0.93898,     0.93887,     0.93859,     0.93834,     0.93824,     0.93813,     0.93796,     0.93774,     0.93732,     0.93722,     0.93713,       0.937,     0.93683,     0.93628,     0.93603,     0.93596,\n",
       "             0.9359,     0.93584,     0.93573,     0.93557,      0.9353,     0.93535,     0.93541,     0.93548,     0.93532,     0.93515,     0.93479,     0.93458,      0.9344,     0.93414,     0.93405,     0.93395,     0.93382,     0.93369,     0.93357,     0.93345,     0.93334,     0.93322,     0.93287,\n",
       "            0.93274,      0.9326,     0.93242,     0.93233,     0.93195,     0.93138,     0.93052,      0.9304,     0.93032,     0.92996,     0.92982,     0.92992,     0.92976,     0.92931,     0.92891,     0.92832,     0.92803,     0.92773,     0.92687,     0.92676,      0.9267,     0.92663,     0.92657,\n",
       "            0.92528,     0.92509,     0.92447,     0.92423,     0.92334,     0.92313,     0.92283,     0.92232,     0.92201,     0.92185,     0.92132,     0.92055,     0.91995,     0.91952,     0.91887,     0.91871,     0.91852,     0.91825,     0.91794,     0.91756,     0.91714,     0.91678,     0.91636,\n",
       "            0.91604,     0.91552,      0.9146,     0.91422,      0.9138,     0.91322,     0.91264,     0.91236,     0.91202,     0.91181,     0.91154,     0.91029,     0.90946,     0.90815,     0.90718,     0.90674,     0.90612,     0.90528,     0.90486,     0.90439,     0.90283,      0.9021,     0.90056,\n",
       "            0.89893,     0.89855,     0.89752,     0.89679,     0.89646,     0.89561,     0.89338,     0.89175,     0.89058,     0.88941,     0.88727,     0.88613,     0.88535,     0.88419,     0.88398,     0.88235,     0.88176,     0.88051,     0.87872,     0.87649,     0.87456,     0.87302,     0.87137,\n",
       "            0.86872,     0.86724,     0.86484,     0.86279,      0.8598,     0.85819,     0.85595,     0.85376,     0.85258,      0.8505,     0.84551,     0.84149,     0.83915,     0.83567,     0.83307,     0.82939,     0.82736,     0.82201,     0.81944,     0.81754,      0.8133,     0.81028,     0.80461,\n",
       "             0.8003,     0.79576,       0.792,     0.78507,     0.78078,     0.77771,     0.77349,     0.76766,       0.763,     0.75594,     0.75094,     0.74642,     0.73939,     0.73574,     0.72939,     0.72245,     0.71726,     0.71228,     0.70728,     0.69954,     0.69152,     0.68632,     0.68072,\n",
       "            0.67427,     0.66741,     0.66125,     0.65622,     0.65091,      0.6417,     0.63718,      0.6316,     0.62415,     0.62038,     0.61545,     0.60897,      0.6038,         0.6,     0.59214,     0.58769,     0.58012,     0.57722,     0.57033,     0.56549,     0.56182,     0.55709,     0.55531,\n",
       "            0.55097,     0.54911,      0.5428,     0.53791,     0.53297,     0.52951,     0.52842,     0.52596,     0.52337,     0.51939,     0.51752,     0.51491,     0.51306,     0.51068,      0.5081,     0.50633,     0.50362,     0.49901,     0.49428,     0.48988,     0.48781,     0.48497,     0.48196,\n",
       "            0.47987,     0.47743,     0.47314,     0.47043,     0.46692,     0.46495,     0.46071,     0.45929,     0.45651,     0.45463,     0.45173,     0.44692,       0.446,     0.44074,     0.43854,     0.43767,     0.43627,     0.43431,     0.42749,     0.42567,      0.4233,     0.41953,     0.41681,\n",
       "            0.41649,     0.41548,     0.41365,     0.41013,       0.408,     0.40522,     0.40373,     0.40148,     0.39602,     0.39277,     0.39097,     0.38839,      0.3856,     0.38248,     0.38021,     0.37814,     0.37669,     0.37521,     0.36986,     0.36618,     0.36109,     0.35867,     0.35211,\n",
       "            0.34692,     0.34191,     0.33788,     0.33266,     0.32717,      0.3184,     0.31055,     0.30613,      0.2981,     0.29255,     0.28449,     0.27369,     0.26565,     0.25633,      0.2461,     0.24035,     0.23061,     0.22246,     0.21228,     0.20602,     0.19806,     0.18952,      0.1814,\n",
       "            0.17625,     0.16523,     0.15673,     0.15198,     0.14645,     0.13917,     0.13538,     0.13305,     0.12767,     0.12236,     0.11816,     0.11557,     0.11099,     0.10708,     0.10177,    0.097043,    0.094541,     0.09146,    0.089204,    0.086746,    0.083548,    0.082621,    0.078499,\n",
       "           0.077311,    0.074598,    0.069145,    0.066361,    0.063961,    0.061835,    0.060368,     0.05911,    0.056257,     0.05521,    0.053008,    0.051706,     0.05065,    0.047246,    0.045826,    0.045168,     0.04487,    0.044572,    0.043512,    0.043087,    0.042411,    0.040547,    0.039252,\n",
       "           0.038919,    0.038587,     0.03801,    0.036869,     0.03559,    0.035323,    0.035055,    0.034735,    0.034357,    0.033986,    0.033657,    0.033328,    0.032697,    0.031739,    0.030973,    0.029798,    0.028544,    0.026671,    0.026001,    0.025838,    0.025675,    0.025511,    0.025348,\n",
       "            0.02516,    0.024134,    0.022266,    0.021958,    0.021649,     0.02109,    0.019753,    0.018701,     0.01791,    0.017341,    0.016198,    0.015922,    0.015646,    0.015362,    0.014127,    0.013108,    0.012398,    0.011969,    0.011661,    0.011453,    0.011245,    0.011037,    0.010395,\n",
       "          0.0092907,   0.0081293,   0.0079205,   0.0077116,   0.0075027,   0.0072937,   0.0066704,   0.0040537,   0.0015484,           0,           0,           0,           0,           0,           0,           0,           0,           0,           0,           0,           0,           0,           0,\n",
       "                  0,           0,           0,           0,           0,           0,           0,           0,           0,           0,           0]]), 'Confidence', 'F1'], [array([          0,    0.001001,    0.002002,    0.003003,    0.004004,    0.005005,    0.006006,    0.007007,    0.008008,    0.009009,     0.01001,    0.011011,    0.012012,    0.013013,    0.014014,    0.015015,    0.016016,    0.017017,    0.018018,    0.019019,     0.02002,    0.021021,    0.022022,    0.023023,\n",
       "          0.024024,    0.025025,    0.026026,    0.027027,    0.028028,    0.029029,     0.03003,    0.031031,    0.032032,    0.033033,    0.034034,    0.035035,    0.036036,    0.037037,    0.038038,    0.039039,     0.04004,    0.041041,    0.042042,    0.043043,    0.044044,    0.045045,    0.046046,    0.047047,\n",
       "          0.048048,    0.049049,     0.05005,    0.051051,    0.052052,    0.053053,    0.054054,    0.055055,    0.056056,    0.057057,    0.058058,    0.059059,     0.06006,    0.061061,    0.062062,    0.063063,    0.064064,    0.065065,    0.066066,    0.067067,    0.068068,    0.069069,     0.07007,    0.071071,\n",
       "          0.072072,    0.073073,    0.074074,    0.075075,    0.076076,    0.077077,    0.078078,    0.079079,     0.08008,    0.081081,    0.082082,    0.083083,    0.084084,    0.085085,    0.086086,    0.087087,    0.088088,    0.089089,     0.09009,    0.091091,    0.092092,    0.093093,    0.094094,    0.095095,\n",
       "          0.096096,    0.097097,    0.098098,    0.099099,      0.1001,      0.1011,      0.1021,      0.1031,      0.1041,     0.10511,     0.10611,     0.10711,     0.10811,     0.10911,     0.11011,     0.11111,     0.11211,     0.11311,     0.11411,     0.11512,     0.11612,     0.11712,     0.11812,     0.11912,\n",
       "           0.12012,     0.12112,     0.12212,     0.12312,     0.12412,     0.12513,     0.12613,     0.12713,     0.12813,     0.12913,     0.13013,     0.13113,     0.13213,     0.13313,     0.13413,     0.13514,     0.13614,     0.13714,     0.13814,     0.13914,     0.14014,     0.14114,     0.14214,     0.14314,\n",
       "           0.14414,     0.14515,     0.14615,     0.14715,     0.14815,     0.14915,     0.15015,     0.15115,     0.15215,     0.15315,     0.15415,     0.15516,     0.15616,     0.15716,     0.15816,     0.15916,     0.16016,     0.16116,     0.16216,     0.16316,     0.16416,     0.16517,     0.16617,     0.16717,\n",
       "           0.16817,     0.16917,     0.17017,     0.17117,     0.17217,     0.17317,     0.17417,     0.17518,     0.17618,     0.17718,     0.17818,     0.17918,     0.18018,     0.18118,     0.18218,     0.18318,     0.18418,     0.18519,     0.18619,     0.18719,     0.18819,     0.18919,     0.19019,     0.19119,\n",
       "           0.19219,     0.19319,     0.19419,      0.1952,      0.1962,      0.1972,      0.1982,      0.1992,      0.2002,      0.2012,      0.2022,      0.2032,      0.2042,     0.20521,     0.20621,     0.20721,     0.20821,     0.20921,     0.21021,     0.21121,     0.21221,     0.21321,     0.21421,     0.21522,\n",
       "           0.21622,     0.21722,     0.21822,     0.21922,     0.22022,     0.22122,     0.22222,     0.22322,     0.22422,     0.22523,     0.22623,     0.22723,     0.22823,     0.22923,     0.23023,     0.23123,     0.23223,     0.23323,     0.23423,     0.23524,     0.23624,     0.23724,     0.23824,     0.23924,\n",
       "           0.24024,     0.24124,     0.24224,     0.24324,     0.24424,     0.24525,     0.24625,     0.24725,     0.24825,     0.24925,     0.25025,     0.25125,     0.25225,     0.25325,     0.25425,     0.25526,     0.25626,     0.25726,     0.25826,     0.25926,     0.26026,     0.26126,     0.26226,     0.26326,\n",
       "           0.26426,     0.26527,     0.26627,     0.26727,     0.26827,     0.26927,     0.27027,     0.27127,     0.27227,     0.27327,     0.27427,     0.27528,     0.27628,     0.27728,     0.27828,     0.27928,     0.28028,     0.28128,     0.28228,     0.28328,     0.28428,     0.28529,     0.28629,     0.28729,\n",
       "           0.28829,     0.28929,     0.29029,     0.29129,     0.29229,     0.29329,     0.29429,      0.2953,      0.2963,      0.2973,      0.2983,      0.2993,      0.3003,      0.3013,      0.3023,      0.3033,      0.3043,     0.30531,     0.30631,     0.30731,     0.30831,     0.30931,     0.31031,     0.31131,\n",
       "           0.31231,     0.31331,     0.31431,     0.31532,     0.31632,     0.31732,     0.31832,     0.31932,     0.32032,     0.32132,     0.32232,     0.32332,     0.32432,     0.32533,     0.32633,     0.32733,     0.32833,     0.32933,     0.33033,     0.33133,     0.33233,     0.33333,     0.33433,     0.33534,\n",
       "           0.33634,     0.33734,     0.33834,     0.33934,     0.34034,     0.34134,     0.34234,     0.34334,     0.34434,     0.34535,     0.34635,     0.34735,     0.34835,     0.34935,     0.35035,     0.35135,     0.35235,     0.35335,     0.35435,     0.35536,     0.35636,     0.35736,     0.35836,     0.35936,\n",
       "           0.36036,     0.36136,     0.36236,     0.36336,     0.36436,     0.36537,     0.36637,     0.36737,     0.36837,     0.36937,     0.37037,     0.37137,     0.37237,     0.37337,     0.37437,     0.37538,     0.37638,     0.37738,     0.37838,     0.37938,     0.38038,     0.38138,     0.38238,     0.38338,\n",
       "           0.38438,     0.38539,     0.38639,     0.38739,     0.38839,     0.38939,     0.39039,     0.39139,     0.39239,     0.39339,     0.39439,      0.3954,      0.3964,      0.3974,      0.3984,      0.3994,      0.4004,      0.4014,      0.4024,      0.4034,      0.4044,     0.40541,     0.40641,     0.40741,\n",
       "           0.40841,     0.40941,     0.41041,     0.41141,     0.41241,     0.41341,     0.41441,     0.41542,     0.41642,     0.41742,     0.41842,     0.41942,     0.42042,     0.42142,     0.42242,     0.42342,     0.42442,     0.42543,     0.42643,     0.42743,     0.42843,     0.42943,     0.43043,     0.43143,\n",
       "           0.43243,     0.43343,     0.43443,     0.43544,     0.43644,     0.43744,     0.43844,     0.43944,     0.44044,     0.44144,     0.44244,     0.44344,     0.44444,     0.44545,     0.44645,     0.44745,     0.44845,     0.44945,     0.45045,     0.45145,     0.45245,     0.45345,     0.45445,     0.45546,\n",
       "           0.45646,     0.45746,     0.45846,     0.45946,     0.46046,     0.46146,     0.46246,     0.46346,     0.46446,     0.46547,     0.46647,     0.46747,     0.46847,     0.46947,     0.47047,     0.47147,     0.47247,     0.47347,     0.47447,     0.47548,     0.47648,     0.47748,     0.47848,     0.47948,\n",
       "           0.48048,     0.48148,     0.48248,     0.48348,     0.48448,     0.48549,     0.48649,     0.48749,     0.48849,     0.48949,     0.49049,     0.49149,     0.49249,     0.49349,     0.49449,      0.4955,      0.4965,      0.4975,      0.4985,      0.4995,      0.5005,      0.5015,      0.5025,      0.5035,\n",
       "            0.5045,     0.50551,     0.50651,     0.50751,     0.50851,     0.50951,     0.51051,     0.51151,     0.51251,     0.51351,     0.51451,     0.51552,     0.51652,     0.51752,     0.51852,     0.51952,     0.52052,     0.52152,     0.52252,     0.52352,     0.52452,     0.52553,     0.52653,     0.52753,\n",
       "           0.52853,     0.52953,     0.53053,     0.53153,     0.53253,     0.53353,     0.53453,     0.53554,     0.53654,     0.53754,     0.53854,     0.53954,     0.54054,     0.54154,     0.54254,     0.54354,     0.54454,     0.54555,     0.54655,     0.54755,     0.54855,     0.54955,     0.55055,     0.55155,\n",
       "           0.55255,     0.55355,     0.55455,     0.55556,     0.55656,     0.55756,     0.55856,     0.55956,     0.56056,     0.56156,     0.56256,     0.56356,     0.56456,     0.56557,     0.56657,     0.56757,     0.56857,     0.56957,     0.57057,     0.57157,     0.57257,     0.57357,     0.57457,     0.57558,\n",
       "           0.57658,     0.57758,     0.57858,     0.57958,     0.58058,     0.58158,     0.58258,     0.58358,     0.58458,     0.58559,     0.58659,     0.58759,     0.58859,     0.58959,     0.59059,     0.59159,     0.59259,     0.59359,     0.59459,      0.5956,      0.5966,      0.5976,      0.5986,      0.5996,\n",
       "            0.6006,      0.6016,      0.6026,      0.6036,      0.6046,     0.60561,     0.60661,     0.60761,     0.60861,     0.60961,     0.61061,     0.61161,     0.61261,     0.61361,     0.61461,     0.61562,     0.61662,     0.61762,     0.61862,     0.61962,     0.62062,     0.62162,     0.62262,     0.62362,\n",
       "           0.62462,     0.62563,     0.62663,     0.62763,     0.62863,     0.62963,     0.63063,     0.63163,     0.63263,     0.63363,     0.63463,     0.63564,     0.63664,     0.63764,     0.63864,     0.63964,     0.64064,     0.64164,     0.64264,     0.64364,     0.64464,     0.64565,     0.64665,     0.64765,\n",
       "           0.64865,     0.64965,     0.65065,     0.65165,     0.65265,     0.65365,     0.65465,     0.65566,     0.65666,     0.65766,     0.65866,     0.65966,     0.66066,     0.66166,     0.66266,     0.66366,     0.66466,     0.66567,     0.66667,     0.66767,     0.66867,     0.66967,     0.67067,     0.67167,\n",
       "           0.67267,     0.67367,     0.67467,     0.67568,     0.67668,     0.67768,     0.67868,     0.67968,     0.68068,     0.68168,     0.68268,     0.68368,     0.68468,     0.68569,     0.68669,     0.68769,     0.68869,     0.68969,     0.69069,     0.69169,     0.69269,     0.69369,     0.69469,      0.6957,\n",
       "            0.6967,      0.6977,      0.6987,      0.6997,      0.7007,      0.7017,      0.7027,      0.7037,      0.7047,     0.70571,     0.70671,     0.70771,     0.70871,     0.70971,     0.71071,     0.71171,     0.71271,     0.71371,     0.71471,     0.71572,     0.71672,     0.71772,     0.71872,     0.71972,\n",
       "           0.72072,     0.72172,     0.72272,     0.72372,     0.72472,     0.72573,     0.72673,     0.72773,     0.72873,     0.72973,     0.73073,     0.73173,     0.73273,     0.73373,     0.73473,     0.73574,     0.73674,     0.73774,     0.73874,     0.73974,     0.74074,     0.74174,     0.74274,     0.74374,\n",
       "           0.74474,     0.74575,     0.74675,     0.74775,     0.74875,     0.74975,     0.75075,     0.75175,     0.75275,     0.75375,     0.75475,     0.75576,     0.75676,     0.75776,     0.75876,     0.75976,     0.76076,     0.76176,     0.76276,     0.76376,     0.76476,     0.76577,     0.76677,     0.76777,\n",
       "           0.76877,     0.76977,     0.77077,     0.77177,     0.77277,     0.77377,     0.77477,     0.77578,     0.77678,     0.77778,     0.77878,     0.77978,     0.78078,     0.78178,     0.78278,     0.78378,     0.78478,     0.78579,     0.78679,     0.78779,     0.78879,     0.78979,     0.79079,     0.79179,\n",
       "           0.79279,     0.79379,     0.79479,      0.7958,      0.7968,      0.7978,      0.7988,      0.7998,      0.8008,      0.8018,      0.8028,      0.8038,      0.8048,     0.80581,     0.80681,     0.80781,     0.80881,     0.80981,     0.81081,     0.81181,     0.81281,     0.81381,     0.81481,     0.81582,\n",
       "           0.81682,     0.81782,     0.81882,     0.81982,     0.82082,     0.82182,     0.82282,     0.82382,     0.82482,     0.82583,     0.82683,     0.82783,     0.82883,     0.82983,     0.83083,     0.83183,     0.83283,     0.83383,     0.83483,     0.83584,     0.83684,     0.83784,     0.83884,     0.83984,\n",
       "           0.84084,     0.84184,     0.84284,     0.84384,     0.84484,     0.84585,     0.84685,     0.84785,     0.84885,     0.84985,     0.85085,     0.85185,     0.85285,     0.85385,     0.85485,     0.85586,     0.85686,     0.85786,     0.85886,     0.85986,     0.86086,     0.86186,     0.86286,     0.86386,\n",
       "           0.86486,     0.86587,     0.86687,     0.86787,     0.86887,     0.86987,     0.87087,     0.87187,     0.87287,     0.87387,     0.87487,     0.87588,     0.87688,     0.87788,     0.87888,     0.87988,     0.88088,     0.88188,     0.88288,     0.88388,     0.88488,     0.88589,     0.88689,     0.88789,\n",
       "           0.88889,     0.88989,     0.89089,     0.89189,     0.89289,     0.89389,     0.89489,      0.8959,      0.8969,      0.8979,      0.8989,      0.8999,      0.9009,      0.9019,      0.9029,      0.9039,      0.9049,     0.90591,     0.90691,     0.90791,     0.90891,     0.90991,     0.91091,     0.91191,\n",
       "           0.91291,     0.91391,     0.91491,     0.91592,     0.91692,     0.91792,     0.91892,     0.91992,     0.92092,     0.92192,     0.92292,     0.92392,     0.92492,     0.92593,     0.92693,     0.92793,     0.92893,     0.92993,     0.93093,     0.93193,     0.93293,     0.93393,     0.93493,     0.93594,\n",
       "           0.93694,     0.93794,     0.93894,     0.93994,     0.94094,     0.94194,     0.94294,     0.94394,     0.94494,     0.94595,     0.94695,     0.94795,     0.94895,     0.94995,     0.95095,     0.95195,     0.95295,     0.95395,     0.95495,     0.95596,     0.95696,     0.95796,     0.95896,     0.95996,\n",
       "           0.96096,     0.96196,     0.96296,     0.96396,     0.96496,     0.96597,     0.96697,     0.96797,     0.96897,     0.96997,     0.97097,     0.97197,     0.97297,     0.97397,     0.97497,     0.97598,     0.97698,     0.97798,     0.97898,     0.97998,     0.98098,     0.98198,     0.98298,     0.98398,\n",
       "           0.98498,     0.98599,     0.98699,     0.98799,     0.98899,     0.98999,     0.99099,     0.99199,     0.99299,     0.99399,     0.99499,       0.996,       0.997,       0.998,       0.999,           1]), array([[    0.27626,     0.27642,     0.37633,     0.44008,      0.4886,      0.5265,     0.55365,      0.5788,     0.59929,     0.61399,      0.6324,     0.64585,     0.65753,     0.66771,     0.67797,     0.68826,     0.69712,       0.707,     0.71564,     0.72451,     0.73116,     0.73774,      0.7425,\n",
       "            0.75121,     0.75564,     0.76405,     0.76778,     0.77299,     0.77736,     0.78162,     0.78708,     0.79188,     0.79626,     0.79961,     0.80172,     0.80288,      0.8103,     0.81445,     0.81969,     0.82362,     0.82655,     0.83025,     0.83206,     0.83382,     0.83553,     0.83688,\n",
       "            0.83874,      0.8403,     0.84175,     0.84244,     0.84467,     0.84796,     0.85003,     0.85157,     0.85451,     0.85559,     0.85699,     0.85857,     0.85895,      0.8617,     0.86381,     0.86475,     0.86604,     0.86743,     0.86967,     0.87079,     0.87252,     0.87431,     0.87533,\n",
       "            0.87602,     0.87684,     0.87783,     0.87844,     0.88064,     0.88106,     0.88228,     0.88327,     0.88416,      0.8844,     0.88492,     0.88598,     0.88647,     0.88681,     0.88739,     0.88963,     0.89137,      0.8933,     0.89527,     0.89664,      0.8974,      0.8977,     0.89799,\n",
       "            0.89934,     0.90036,     0.90121,     0.90194,     0.90261,     0.90321,      0.9045,     0.90576,     0.90637,     0.90719,     0.90813,     0.90878,     0.90901,     0.90974,     0.91035,     0.91123,      0.9119,     0.91232,     0.91308,     0.91417,     0.91487,     0.91543,       0.916,\n",
       "            0.91716,     0.91731,     0.91746,     0.91947,     0.92005,     0.92027,     0.92113,     0.92232,     0.92301,     0.92325,     0.92408,     0.92433,     0.92492,     0.92513,     0.92536,     0.92576,     0.92587,     0.92599,     0.92611,     0.92703,     0.92756,     0.92815,     0.92863,\n",
       "            0.92921,     0.92978,     0.93077,     0.93132,     0.93167,     0.93217,     0.93254,     0.93279,     0.93278,     0.93276,     0.93335,     0.93359,     0.93418,     0.93453,     0.93554,     0.93596,      0.9362,     0.93636,     0.93651,     0.93734,     0.93739,     0.93762,      0.9378,\n",
       "            0.93779,     0.93812,     0.93923,     0.94021,      0.9405,     0.94073,     0.94141,     0.94184,     0.94203,     0.94237,      0.9431,     0.94326,      0.9437,     0.94385,     0.94399,     0.94415,     0.94446,     0.94452,     0.94509,     0.94534,       0.946,     0.94635,     0.94679,\n",
       "            0.94695,      0.9471,     0.94712,     0.94723,     0.94734,     0.94744,     0.94775,     0.94794,     0.94793,      0.9484,     0.94858,     0.94876,     0.94945,     0.94964,     0.94988,     0.95034,     0.95113,     0.95137,      0.9515,     0.95171,     0.95222,     0.95229,     0.95244,\n",
       "             0.9526,     0.95324,     0.95355,     0.95426,     0.95443,     0.95458,     0.95498,     0.95539,     0.95562,     0.95574,     0.95607,     0.95616,     0.95663,     0.95678,     0.95693,     0.95713,     0.95749,     0.95749,     0.95749,     0.95749,     0.95749,     0.95748,     0.95748,\n",
       "            0.95748,     0.95748,      0.9576,     0.95781,     0.95816,     0.95859,     0.95888,     0.95904,      0.9592,     0.95949,     0.95973,     0.95979,     0.95985,     0.95991,     0.95997,     0.96003,     0.96009,     0.96016,      0.9603,     0.96044,     0.96059,     0.96069,     0.96078,\n",
       "            0.96088,     0.96098,     0.96104,     0.96124,     0.96144,     0.96147,     0.96161,     0.96191,     0.96234,     0.96233,     0.96233,     0.96232,     0.96231,     0.96231,      0.9623,     0.96228,     0.96278,     0.96287,     0.96297,     0.96306,     0.96315,     0.96318,      0.9632,\n",
       "            0.96325,     0.96329,     0.96334,     0.96338,     0.96343,     0.96347,     0.96352,     0.96357,     0.96361,     0.96391,     0.96468,     0.96545,     0.96545,     0.96544,     0.96544,     0.96543,     0.96543,     0.96542,     0.96542,     0.96556,     0.96587,     0.96585,     0.96597,\n",
       "             0.9663,      0.9666,     0.96701,     0.96736,     0.96761,     0.96824,     0.96859,     0.96883,     0.96905,     0.96904,     0.96904,     0.96904,     0.96903,     0.96949,     0.96949,     0.96949,     0.96949,     0.96948,     0.96948,     0.96948,     0.96947,     0.96947,     0.96946,\n",
       "            0.96946,     0.96946,     0.96945,     0.96945,     0.96992,     0.97021,     0.97037,     0.97037,     0.97038,     0.97044,      0.9705,     0.97056,     0.97062,     0.97069,     0.97075,     0.97081,     0.97086,     0.97091,     0.97095,       0.971,     0.97105,     0.97109,     0.97114,\n",
       "            0.97119,     0.97123,     0.97128,     0.97174,     0.97173,     0.97172,     0.97171,     0.97171,      0.9717,     0.97169,     0.97177,     0.97214,     0.97213,     0.97269,     0.97286,     0.97304,     0.97352,     0.97382,       0.974,       0.974,     0.97399,     0.97399,     0.97432,\n",
       "            0.97445,     0.97444,     0.97443,     0.97443,     0.97442,     0.97441,     0.97442,      0.9745,     0.97458,     0.97466,     0.97474,     0.97482,     0.97504,     0.97535,     0.97534,      0.9756,     0.97581,     0.97581,     0.97623,     0.97644,     0.97662,     0.97713,     0.97721,\n",
       "            0.97771,     0.97784,     0.97797,     0.97811,     0.97821,     0.97829,     0.97838,     0.97847,     0.97855,     0.97863,     0.97863,     0.97863,     0.97862,     0.97862,     0.97865,      0.9787,     0.97875,      0.9788,     0.97885,      0.9789,     0.97895,       0.979,     0.97905,\n",
       "             0.9791,     0.97909,     0.97909,     0.97909,      0.9793,     0.97956,     0.97956,     0.97956,     0.97955,     0.97955,     0.97955,     0.98001,        0.98,        0.98,     0.97999,     0.98007,     0.98018,     0.98028,     0.98039,     0.98052,     0.98069,     0.98087,     0.98128,\n",
       "            0.98147,     0.98154,      0.9816,     0.98167,     0.98174,     0.98181,     0.98188,     0.98194,     0.98237,     0.98237,     0.98237,     0.98236,     0.98236,     0.98251,     0.98268,     0.98285,      0.9829,     0.98295,     0.98301,     0.98306,     0.98312,     0.98317,     0.98323,\n",
       "            0.98328,     0.98336,     0.98362,     0.98381,     0.98379,     0.98379,     0.98379,     0.98379,     0.98379,     0.98382,     0.98393,     0.98404,     0.98415,     0.98426,     0.98427,     0.98426,     0.98426,     0.98426,     0.98426,     0.98425,     0.98425,     0.98453,     0.98475,\n",
       "            0.98488,       0.985,     0.98512,     0.98521,     0.98521,     0.98521,      0.9852,      0.9852,     0.98523,     0.98538,     0.98553,     0.98568,     0.98568,     0.98568,     0.98568,     0.98612,     0.98616,     0.98615,     0.98615,     0.98615,     0.98615,     0.98627,     0.98663,\n",
       "            0.98663,     0.98662,     0.98662,     0.98662,     0.98661,      0.9866,      0.9869,     0.98721,     0.98756,     0.98784,     0.98807,     0.98807,     0.98811,     0.98818,     0.98825,     0.98833,      0.9884,     0.98848,     0.98855,     0.98855,     0.98855,     0.98855,     0.98855,\n",
       "            0.98854,     0.98854,     0.98854,     0.98854,     0.98854,     0.98854,     0.98852,     0.98852,     0.98852,     0.98852,     0.98852,     0.98852,     0.98852,     0.98909,      0.9895,     0.98949,     0.98949,     0.98949,     0.98949,     0.98948,     0.98948,     0.98948,     0.98948,\n",
       "            0.98957,     0.98968,     0.98979,      0.9899,     0.98997,     0.98997,     0.99005,     0.99046,     0.99046,     0.99045,     0.99045,     0.99045,     0.99045,     0.99044,     0.99044,     0.99044,     0.99044,     0.99044,     0.99043,     0.99043,     0.99043,     0.99042,     0.99042,\n",
       "            0.99042,     0.99045,     0.99068,     0.99091,     0.99091,     0.99091,     0.99089,     0.99089,     0.99089,     0.99089,     0.99088,     0.99088,     0.99088,     0.99087,     0.99087,     0.99086,     0.99086,     0.99086,     0.99086,     0.99085,     0.99084,     0.99084,     0.99084,\n",
       "            0.99084,     0.99084,     0.99083,     0.99083,     0.99083,     0.99096,      0.9911,     0.99125,     0.99133,     0.99164,     0.99182,     0.99182,     0.99181,     0.99181,     0.99181,     0.99181,     0.99181,      0.9918,      0.9918,      0.9918,      0.9918,      0.9918,     0.99179,\n",
       "            0.99179,     0.99179,     0.99178,     0.99229,     0.99228,     0.99227,     0.99226,     0.99226,     0.99277,     0.99276,     0.99291,     0.99315,     0.99327,     0.99377,     0.99377,     0.99376,     0.99376,     0.99375,     0.99374,     0.99374,     0.99374,     0.99374,     0.99374,\n",
       "            0.99372,     0.99372,     0.99371,     0.99371,      0.9937,      0.9937,     0.99369,     0.99369,     0.99368,     0.99368,     0.99367,     0.99366,     0.99366,     0.99365,     0.99364,     0.99364,     0.99364,     0.99364,     0.99363,     0.99363,     0.99362,     0.99362,     0.99361,\n",
       "            0.99361,      0.9936,     0.99359,     0.99358,     0.99358,     0.99357,     0.99356,     0.99356,     0.99462,     0.99515,     0.99515,     0.99514,     0.99513,     0.99565,     0.99619,     0.99618,     0.99618,     0.99617,     0.99617,     0.99616,     0.99615,     0.99615,     0.99613,\n",
       "            0.99612,     0.99612,     0.99611,      0.9961,      0.9961,      0.9961,     0.99608,     0.99606,     0.99606,     0.99605,     0.99603,     0.99602,     0.99601,       0.996,       0.996,     0.99599,     0.99598,     0.99597,     0.99596,     0.99594,      0.9965,     0.99649,     0.99648,\n",
       "            0.99646,     0.99645,     0.99643,     0.99642,      0.9964,     0.99639,     0.99637,     0.99635,     0.99634,     0.99694,     0.99691,     0.99688,     0.99687,     0.99684,     0.99683,      0.9968,     0.99679,     0.99675,     0.99674,     0.99672,     0.99735,     0.99734,     0.99798,\n",
       "            0.99796,     0.99794,     0.99792,     0.99859,     0.99858,     0.99857,     0.99856,     0.99854,     0.99853,      0.9985,     0.99849,     0.99847,     0.99845,     0.99844,     0.99842,     0.99839,     0.99837,     0.99836,     0.99834,     0.99831,     0.99828,     0.99826,     0.99824,\n",
       "            0.99821,     0.99819,     0.99816,     0.99814,     0.99812,     0.99808,     0.99806,     0.99803,       0.998,     0.99798,     0.99796,     0.99792,      0.9979,     0.99788,     0.99784,     0.99782,     0.99778,     0.99776,     0.99772,      0.9977,     0.99768,     0.99765,     0.99764,\n",
       "            0.99761,      0.9976,     0.99756,     0.99753,      0.9975,     0.99748,     0.99873,     0.99873,     0.99872,      0.9987,      0.9987,     0.99869,     0.99868,     0.99867,     0.99866,     0.99866,     0.99865,     0.99863,     0.99861,      0.9986,     0.99859,     0.99858,     0.99857,\n",
       "            0.99856,     0.99855,     0.99853,     0.99852,     0.99851,      0.9985,     0.99848,     0.99847,     0.99846,     0.99845,     0.99844,     0.99842,     0.99842,     0.99839,     0.99838,     0.99838,     0.99837,     0.99836,           1,           1,           1,           1,           1,\n",
       "                  1,           1,           1,           1,           1,           1,           1,           1,           1,           1,           1,           1,           1,           1,           1,           1,           1,           1,           1,           1,           1,           1,           1,\n",
       "                  1,           1,           1,           1,           1,           1,           1,           1,           1,           1,           1,           1,           1,           1,           1,           1,           1,           1,           1,           1,           1,           1,           1,\n",
       "                  1,           1,           1,           1,           1,           1,           1,           1,           1,           1,           1,           1,           1,           1,           1,           1,           1,           1,           1,           1,           1,           1,           1,\n",
       "                  1,           1,           1,           1,           1,           1,           1,           1,           1,           1,           1,           1,           1,           1,           1,           1,           1,           1,           1,           1,           1,           1,           1,\n",
       "                  1,           1,           1,           1,           1,           1,           1,           1,           1,           1,           1,           1,           1,           1,           1,           1,           1,           1,           1,           1,           1,           1,           1,\n",
       "                  1,           1,           1,           1,           1,           1,           1,           1,           1,           1,           1,           1,           1,           1,           1,           1,           1,           1,           1,           1,           1,           1,           1,\n",
       "                  1,           1,           1,           1,           1,           1,           1,           1,           1,           1,           1,           1,           1,           1,           1,           1,           1,           1,           1,           1,           1,           1,           1,\n",
       "                  1,           1,           1,           1,           1,           1,           1,           1,           1,           1,           1]]), 'Confidence', 'Precision'], [array([          0,    0.001001,    0.002002,    0.003003,    0.004004,    0.005005,    0.006006,    0.007007,    0.008008,    0.009009,     0.01001,    0.011011,    0.012012,    0.013013,    0.014014,    0.015015,    0.016016,    0.017017,    0.018018,    0.019019,     0.02002,    0.021021,    0.022022,    0.023023,\n",
       "          0.024024,    0.025025,    0.026026,    0.027027,    0.028028,    0.029029,     0.03003,    0.031031,    0.032032,    0.033033,    0.034034,    0.035035,    0.036036,    0.037037,    0.038038,    0.039039,     0.04004,    0.041041,    0.042042,    0.043043,    0.044044,    0.045045,    0.046046,    0.047047,\n",
       "          0.048048,    0.049049,     0.05005,    0.051051,    0.052052,    0.053053,    0.054054,    0.055055,    0.056056,    0.057057,    0.058058,    0.059059,     0.06006,    0.061061,    0.062062,    0.063063,    0.064064,    0.065065,    0.066066,    0.067067,    0.068068,    0.069069,     0.07007,    0.071071,\n",
       "          0.072072,    0.073073,    0.074074,    0.075075,    0.076076,    0.077077,    0.078078,    0.079079,     0.08008,    0.081081,    0.082082,    0.083083,    0.084084,    0.085085,    0.086086,    0.087087,    0.088088,    0.089089,     0.09009,    0.091091,    0.092092,    0.093093,    0.094094,    0.095095,\n",
       "          0.096096,    0.097097,    0.098098,    0.099099,      0.1001,      0.1011,      0.1021,      0.1031,      0.1041,     0.10511,     0.10611,     0.10711,     0.10811,     0.10911,     0.11011,     0.11111,     0.11211,     0.11311,     0.11411,     0.11512,     0.11612,     0.11712,     0.11812,     0.11912,\n",
       "           0.12012,     0.12112,     0.12212,     0.12312,     0.12412,     0.12513,     0.12613,     0.12713,     0.12813,     0.12913,     0.13013,     0.13113,     0.13213,     0.13313,     0.13413,     0.13514,     0.13614,     0.13714,     0.13814,     0.13914,     0.14014,     0.14114,     0.14214,     0.14314,\n",
       "           0.14414,     0.14515,     0.14615,     0.14715,     0.14815,     0.14915,     0.15015,     0.15115,     0.15215,     0.15315,     0.15415,     0.15516,     0.15616,     0.15716,     0.15816,     0.15916,     0.16016,     0.16116,     0.16216,     0.16316,     0.16416,     0.16517,     0.16617,     0.16717,\n",
       "           0.16817,     0.16917,     0.17017,     0.17117,     0.17217,     0.17317,     0.17417,     0.17518,     0.17618,     0.17718,     0.17818,     0.17918,     0.18018,     0.18118,     0.18218,     0.18318,     0.18418,     0.18519,     0.18619,     0.18719,     0.18819,     0.18919,     0.19019,     0.19119,\n",
       "           0.19219,     0.19319,     0.19419,      0.1952,      0.1962,      0.1972,      0.1982,      0.1992,      0.2002,      0.2012,      0.2022,      0.2032,      0.2042,     0.20521,     0.20621,     0.20721,     0.20821,     0.20921,     0.21021,     0.21121,     0.21221,     0.21321,     0.21421,     0.21522,\n",
       "           0.21622,     0.21722,     0.21822,     0.21922,     0.22022,     0.22122,     0.22222,     0.22322,     0.22422,     0.22523,     0.22623,     0.22723,     0.22823,     0.22923,     0.23023,     0.23123,     0.23223,     0.23323,     0.23423,     0.23524,     0.23624,     0.23724,     0.23824,     0.23924,\n",
       "           0.24024,     0.24124,     0.24224,     0.24324,     0.24424,     0.24525,     0.24625,     0.24725,     0.24825,     0.24925,     0.25025,     0.25125,     0.25225,     0.25325,     0.25425,     0.25526,     0.25626,     0.25726,     0.25826,     0.25926,     0.26026,     0.26126,     0.26226,     0.26326,\n",
       "           0.26426,     0.26527,     0.26627,     0.26727,     0.26827,     0.26927,     0.27027,     0.27127,     0.27227,     0.27327,     0.27427,     0.27528,     0.27628,     0.27728,     0.27828,     0.27928,     0.28028,     0.28128,     0.28228,     0.28328,     0.28428,     0.28529,     0.28629,     0.28729,\n",
       "           0.28829,     0.28929,     0.29029,     0.29129,     0.29229,     0.29329,     0.29429,      0.2953,      0.2963,      0.2973,      0.2983,      0.2993,      0.3003,      0.3013,      0.3023,      0.3033,      0.3043,     0.30531,     0.30631,     0.30731,     0.30831,     0.30931,     0.31031,     0.31131,\n",
       "           0.31231,     0.31331,     0.31431,     0.31532,     0.31632,     0.31732,     0.31832,     0.31932,     0.32032,     0.32132,     0.32232,     0.32332,     0.32432,     0.32533,     0.32633,     0.32733,     0.32833,     0.32933,     0.33033,     0.33133,     0.33233,     0.33333,     0.33433,     0.33534,\n",
       "           0.33634,     0.33734,     0.33834,     0.33934,     0.34034,     0.34134,     0.34234,     0.34334,     0.34434,     0.34535,     0.34635,     0.34735,     0.34835,     0.34935,     0.35035,     0.35135,     0.35235,     0.35335,     0.35435,     0.35536,     0.35636,     0.35736,     0.35836,     0.35936,\n",
       "           0.36036,     0.36136,     0.36236,     0.36336,     0.36436,     0.36537,     0.36637,     0.36737,     0.36837,     0.36937,     0.37037,     0.37137,     0.37237,     0.37337,     0.37437,     0.37538,     0.37638,     0.37738,     0.37838,     0.37938,     0.38038,     0.38138,     0.38238,     0.38338,\n",
       "           0.38438,     0.38539,     0.38639,     0.38739,     0.38839,     0.38939,     0.39039,     0.39139,     0.39239,     0.39339,     0.39439,      0.3954,      0.3964,      0.3974,      0.3984,      0.3994,      0.4004,      0.4014,      0.4024,      0.4034,      0.4044,     0.40541,     0.40641,     0.40741,\n",
       "           0.40841,     0.40941,     0.41041,     0.41141,     0.41241,     0.41341,     0.41441,     0.41542,     0.41642,     0.41742,     0.41842,     0.41942,     0.42042,     0.42142,     0.42242,     0.42342,     0.42442,     0.42543,     0.42643,     0.42743,     0.42843,     0.42943,     0.43043,     0.43143,\n",
       "           0.43243,     0.43343,     0.43443,     0.43544,     0.43644,     0.43744,     0.43844,     0.43944,     0.44044,     0.44144,     0.44244,     0.44344,     0.44444,     0.44545,     0.44645,     0.44745,     0.44845,     0.44945,     0.45045,     0.45145,     0.45245,     0.45345,     0.45445,     0.45546,\n",
       "           0.45646,     0.45746,     0.45846,     0.45946,     0.46046,     0.46146,     0.46246,     0.46346,     0.46446,     0.46547,     0.46647,     0.46747,     0.46847,     0.46947,     0.47047,     0.47147,     0.47247,     0.47347,     0.47447,     0.47548,     0.47648,     0.47748,     0.47848,     0.47948,\n",
       "           0.48048,     0.48148,     0.48248,     0.48348,     0.48448,     0.48549,     0.48649,     0.48749,     0.48849,     0.48949,     0.49049,     0.49149,     0.49249,     0.49349,     0.49449,      0.4955,      0.4965,      0.4975,      0.4985,      0.4995,      0.5005,      0.5015,      0.5025,      0.5035,\n",
       "            0.5045,     0.50551,     0.50651,     0.50751,     0.50851,     0.50951,     0.51051,     0.51151,     0.51251,     0.51351,     0.51451,     0.51552,     0.51652,     0.51752,     0.51852,     0.51952,     0.52052,     0.52152,     0.52252,     0.52352,     0.52452,     0.52553,     0.52653,     0.52753,\n",
       "           0.52853,     0.52953,     0.53053,     0.53153,     0.53253,     0.53353,     0.53453,     0.53554,     0.53654,     0.53754,     0.53854,     0.53954,     0.54054,     0.54154,     0.54254,     0.54354,     0.54454,     0.54555,     0.54655,     0.54755,     0.54855,     0.54955,     0.55055,     0.55155,\n",
       "           0.55255,     0.55355,     0.55455,     0.55556,     0.55656,     0.55756,     0.55856,     0.55956,     0.56056,     0.56156,     0.56256,     0.56356,     0.56456,     0.56557,     0.56657,     0.56757,     0.56857,     0.56957,     0.57057,     0.57157,     0.57257,     0.57357,     0.57457,     0.57558,\n",
       "           0.57658,     0.57758,     0.57858,     0.57958,     0.58058,     0.58158,     0.58258,     0.58358,     0.58458,     0.58559,     0.58659,     0.58759,     0.58859,     0.58959,     0.59059,     0.59159,     0.59259,     0.59359,     0.59459,      0.5956,      0.5966,      0.5976,      0.5986,      0.5996,\n",
       "            0.6006,      0.6016,      0.6026,      0.6036,      0.6046,     0.60561,     0.60661,     0.60761,     0.60861,     0.60961,     0.61061,     0.61161,     0.61261,     0.61361,     0.61461,     0.61562,     0.61662,     0.61762,     0.61862,     0.61962,     0.62062,     0.62162,     0.62262,     0.62362,\n",
       "           0.62462,     0.62563,     0.62663,     0.62763,     0.62863,     0.62963,     0.63063,     0.63163,     0.63263,     0.63363,     0.63463,     0.63564,     0.63664,     0.63764,     0.63864,     0.63964,     0.64064,     0.64164,     0.64264,     0.64364,     0.64464,     0.64565,     0.64665,     0.64765,\n",
       "           0.64865,     0.64965,     0.65065,     0.65165,     0.65265,     0.65365,     0.65465,     0.65566,     0.65666,     0.65766,     0.65866,     0.65966,     0.66066,     0.66166,     0.66266,     0.66366,     0.66466,     0.66567,     0.66667,     0.66767,     0.66867,     0.66967,     0.67067,     0.67167,\n",
       "           0.67267,     0.67367,     0.67467,     0.67568,     0.67668,     0.67768,     0.67868,     0.67968,     0.68068,     0.68168,     0.68268,     0.68368,     0.68468,     0.68569,     0.68669,     0.68769,     0.68869,     0.68969,     0.69069,     0.69169,     0.69269,     0.69369,     0.69469,      0.6957,\n",
       "            0.6967,      0.6977,      0.6987,      0.6997,      0.7007,      0.7017,      0.7027,      0.7037,      0.7047,     0.70571,     0.70671,     0.70771,     0.70871,     0.70971,     0.71071,     0.71171,     0.71271,     0.71371,     0.71471,     0.71572,     0.71672,     0.71772,     0.71872,     0.71972,\n",
       "           0.72072,     0.72172,     0.72272,     0.72372,     0.72472,     0.72573,     0.72673,     0.72773,     0.72873,     0.72973,     0.73073,     0.73173,     0.73273,     0.73373,     0.73473,     0.73574,     0.73674,     0.73774,     0.73874,     0.73974,     0.74074,     0.74174,     0.74274,     0.74374,\n",
       "           0.74474,     0.74575,     0.74675,     0.74775,     0.74875,     0.74975,     0.75075,     0.75175,     0.75275,     0.75375,     0.75475,     0.75576,     0.75676,     0.75776,     0.75876,     0.75976,     0.76076,     0.76176,     0.76276,     0.76376,     0.76476,     0.76577,     0.76677,     0.76777,\n",
       "           0.76877,     0.76977,     0.77077,     0.77177,     0.77277,     0.77377,     0.77477,     0.77578,     0.77678,     0.77778,     0.77878,     0.77978,     0.78078,     0.78178,     0.78278,     0.78378,     0.78478,     0.78579,     0.78679,     0.78779,     0.78879,     0.78979,     0.79079,     0.79179,\n",
       "           0.79279,     0.79379,     0.79479,      0.7958,      0.7968,      0.7978,      0.7988,      0.7998,      0.8008,      0.8018,      0.8028,      0.8038,      0.8048,     0.80581,     0.80681,     0.80781,     0.80881,     0.80981,     0.81081,     0.81181,     0.81281,     0.81381,     0.81481,     0.81582,\n",
       "           0.81682,     0.81782,     0.81882,     0.81982,     0.82082,     0.82182,     0.82282,     0.82382,     0.82482,     0.82583,     0.82683,     0.82783,     0.82883,     0.82983,     0.83083,     0.83183,     0.83283,     0.83383,     0.83483,     0.83584,     0.83684,     0.83784,     0.83884,     0.83984,\n",
       "           0.84084,     0.84184,     0.84284,     0.84384,     0.84484,     0.84585,     0.84685,     0.84785,     0.84885,     0.84985,     0.85085,     0.85185,     0.85285,     0.85385,     0.85485,     0.85586,     0.85686,     0.85786,     0.85886,     0.85986,     0.86086,     0.86186,     0.86286,     0.86386,\n",
       "           0.86486,     0.86587,     0.86687,     0.86787,     0.86887,     0.86987,     0.87087,     0.87187,     0.87287,     0.87387,     0.87487,     0.87588,     0.87688,     0.87788,     0.87888,     0.87988,     0.88088,     0.88188,     0.88288,     0.88388,     0.88488,     0.88589,     0.88689,     0.88789,\n",
       "           0.88889,     0.88989,     0.89089,     0.89189,     0.89289,     0.89389,     0.89489,      0.8959,      0.8969,      0.8979,      0.8989,      0.8999,      0.9009,      0.9019,      0.9029,      0.9039,      0.9049,     0.90591,     0.90691,     0.90791,     0.90891,     0.90991,     0.91091,     0.91191,\n",
       "           0.91291,     0.91391,     0.91491,     0.91592,     0.91692,     0.91792,     0.91892,     0.91992,     0.92092,     0.92192,     0.92292,     0.92392,     0.92492,     0.92593,     0.92693,     0.92793,     0.92893,     0.92993,     0.93093,     0.93193,     0.93293,     0.93393,     0.93493,     0.93594,\n",
       "           0.93694,     0.93794,     0.93894,     0.93994,     0.94094,     0.94194,     0.94294,     0.94394,     0.94494,     0.94595,     0.94695,     0.94795,     0.94895,     0.94995,     0.95095,     0.95195,     0.95295,     0.95395,     0.95495,     0.95596,     0.95696,     0.95796,     0.95896,     0.95996,\n",
       "           0.96096,     0.96196,     0.96296,     0.96396,     0.96496,     0.96597,     0.96697,     0.96797,     0.96897,     0.96997,     0.97097,     0.97197,     0.97297,     0.97397,     0.97497,     0.97598,     0.97698,     0.97798,     0.97898,     0.97998,     0.98098,     0.98198,     0.98298,     0.98398,\n",
       "           0.98498,     0.98599,     0.98699,     0.98799,     0.98899,     0.98999,     0.99099,     0.99199,     0.99299,     0.99399,     0.99499,       0.996,       0.997,       0.998,       0.999,           1]), array([[    0.96082,     0.96082,     0.96036,       0.959,       0.959,     0.95809,     0.95626,     0.95626,     0.95581,     0.95535,      0.9549,      0.9549,     0.95444,     0.95444,     0.95444,     0.95399,     0.95353,     0.95308,     0.95308,     0.95308,     0.95308,     0.95262,     0.95171,\n",
       "            0.95171,     0.95125,     0.95125,     0.95125,     0.95125,     0.95125,      0.9508,      0.9508,     0.94989,     0.94989,     0.94989,     0.94943,     0.94943,     0.94943,     0.94943,     0.94943,     0.94943,     0.94943,     0.94922,     0.94897,     0.94852,     0.94761,     0.94761,\n",
       "            0.94761,     0.94761,     0.94715,     0.94715,      0.9467,      0.9467,      0.9467,      0.9467,      0.9467,     0.94624,     0.94624,     0.94624,     0.94624,     0.94624,     0.94624,     0.94579,     0.94579,     0.94579,     0.94533,     0.94533,     0.94533,     0.94533,     0.94533,\n",
       "            0.94533,     0.94533,     0.94533,     0.94533,     0.94533,      0.9449,     0.94487,     0.94487,     0.94487,     0.94452,     0.94442,     0.94396,     0.94396,     0.94396,     0.94396,     0.94372,     0.94351,     0.94351,     0.94351,     0.94351,     0.94351,     0.94347,     0.94305,\n",
       "            0.94305,      0.9426,      0.9426,      0.9426,      0.9426,      0.9426,      0.9426,      0.9426,      0.9426,      0.9426,      0.9426,      0.9426,      0.9426,      0.9426,      0.9426,      0.9426,      0.9426,      0.9426,      0.9426,      0.9426,      0.9426,      0.9426,      0.9426,\n",
       "             0.9426,      0.9426,      0.9426,      0.9426,      0.9426,      0.9426,      0.9426,      0.9426,      0.9426,      0.9426,      0.9426,      0.9426,      0.9426,      0.9426,      0.9426,      0.9426,      0.9426,      0.9426,      0.9426,      0.9426,      0.9426,      0.9426,     0.94245,\n",
       "            0.94214,     0.94214,     0.94214,     0.94214,     0.94214,     0.94214,     0.94214,     0.94208,      0.9419,     0.94172,     0.94169,     0.94169,     0.94169,     0.94169,     0.94169,     0.94169,     0.94169,     0.94169,     0.94169,     0.94169,     0.94135,     0.94123,     0.94111,\n",
       "            0.94083,     0.94077,     0.94077,     0.94077,     0.94077,     0.94077,     0.94077,     0.94077,     0.94026,     0.93986,     0.93941,     0.93912,     0.93895,     0.93895,     0.93895,     0.93895,     0.93895,     0.93852,      0.9385,      0.9385,      0.9385,     0.93804,     0.93804,\n",
       "            0.93804,     0.93803,     0.93759,     0.93759,     0.93759,     0.93759,     0.93759,     0.93741,     0.93716,     0.93667,     0.93667,     0.93667,     0.93667,     0.93635,     0.93622,     0.93622,     0.93622,     0.93591,     0.93576,     0.93576,     0.93576,     0.93531,     0.93531,\n",
       "            0.93531,     0.93531,     0.93531,     0.93531,     0.93511,     0.93485,     0.93485,     0.93485,     0.93485,     0.93459,      0.9344,     0.93412,     0.93394,     0.93394,     0.93394,     0.93394,     0.93394,     0.93388,     0.93383,     0.93377,     0.93371,     0.93366,      0.9336,\n",
       "            0.93354,     0.93345,     0.93303,     0.93303,     0.93303,     0.93303,     0.93303,     0.93303,     0.93303,     0.93303,     0.93303,     0.93303,     0.93303,     0.93303,     0.93303,     0.93303,     0.93303,     0.93303,     0.93303,     0.93303,     0.93303,     0.93303,     0.93303,\n",
       "            0.93303,     0.93303,     0.93257,     0.93257,     0.93257,     0.93232,     0.93212,     0.93197,      0.9314,      0.9311,     0.93096,     0.93081,     0.93064,     0.93045,     0.93023,     0.92991,     0.92984,     0.92984,     0.92984,     0.92984,     0.92984,     0.92956,     0.92938,\n",
       "            0.92938,     0.92938,     0.92938,     0.92938,     0.92938,     0.92938,     0.92938,     0.92938,     0.92938,     0.92938,     0.92938,     0.92932,     0.92919,     0.92906,     0.92894,     0.92883,     0.92873,     0.92863,     0.92853,     0.92847,     0.92847,     0.92769,     0.92711,\n",
       "            0.92711,     0.92711,     0.92711,     0.92711,     0.92711,     0.92711,     0.92711,     0.92711,     0.92709,       0.927,      0.9269,     0.92681,     0.92671,     0.92665,     0.92656,     0.92648,     0.92639,      0.9263,     0.92621,     0.92608,     0.92592,     0.92577,     0.92567,\n",
       "            0.92557,     0.92548,     0.92539,      0.9253,     0.92528,     0.92528,      0.9252,     0.92498,     0.92483,     0.92483,     0.92483,     0.92483,     0.92483,     0.92483,     0.92483,     0.92483,     0.92483,     0.92483,     0.92483,     0.92483,     0.92483,     0.92483,     0.92483,\n",
       "            0.92483,     0.92483,     0.92483,     0.92433,     0.92392,     0.92345,     0.92332,     0.92319,     0.92306,      0.9227,      0.9221,     0.92207,     0.92172,     0.92164,     0.92164,     0.92164,     0.92164,     0.92164,     0.92159,     0.92147,     0.92134,     0.92122,     0.92118,\n",
       "            0.92093,     0.92058,     0.92027,     0.92006,     0.91984,     0.91958,     0.91936,     0.91936,     0.91936,     0.91936,     0.91936,     0.91936,     0.91936,     0.91924,     0.91903,     0.91891,     0.91872,     0.91845,     0.91845,     0.91845,     0.91845,     0.91845,     0.91805,\n",
       "              0.918,       0.918,       0.918,       0.918,       0.918,       0.918,       0.918,       0.918,       0.918,     0.91799,     0.91788,     0.91778,     0.91768,     0.91757,     0.91754,     0.91754,     0.91754,     0.91754,     0.91754,     0.91754,     0.91754,     0.91754,     0.91754,\n",
       "            0.91752,     0.91739,     0.91727,     0.91714,     0.91708,     0.91705,     0.91693,     0.91681,      0.9167,     0.91654,     0.91633,     0.91578,     0.91522,     0.91504,     0.91485,     0.91481,     0.91481,     0.91481,     0.91481,     0.91481,     0.91481,     0.91481,     0.91481,\n",
       "            0.91435,     0.91435,     0.91435,     0.91435,     0.91435,     0.91435,     0.91435,      0.9139,     0.91389,     0.91378,     0.91367,     0.91356,     0.91345,     0.91344,     0.91344,     0.91344,     0.91344,     0.91344,     0.91344,     0.91344,     0.91344,     0.91344,     0.91344,\n",
       "            0.91344,     0.91344,     0.91344,     0.91331,     0.91271,     0.91245,     0.91235,     0.91225,     0.91214,     0.91207,     0.91207,     0.91207,     0.91207,     0.91207,     0.91193,     0.91177,     0.91162,     0.91151,     0.91139,     0.91128,     0.91117,     0.91116,     0.91071,\n",
       "            0.91071,     0.91071,     0.91071,     0.91062,     0.91025,     0.91013,     0.91001,     0.90989,     0.90979,     0.90979,     0.90979,     0.90979,     0.90966,     0.90951,     0.90936,     0.90934,     0.90904,     0.90839,     0.90828,     0.90817,     0.90805,     0.90797,     0.90795,\n",
       "            0.90748,     0.90732,     0.90717,      0.9069,     0.90637,     0.90572,     0.90569,     0.90569,     0.90569,     0.90569,     0.90565,     0.90536,     0.90524,     0.90524,     0.90524,     0.90524,     0.90524,     0.90524,     0.90524,     0.90468,     0.90455,     0.90443,     0.90431,\n",
       "            0.90424,     0.90416,     0.90409,     0.90401,     0.90394,     0.90356,     0.90266,     0.90245,     0.90238,      0.9023,     0.90223,     0.90215,     0.90208,     0.90159,     0.90151,     0.90106,     0.90062,     0.90051,     0.90039,     0.90027,     0.90013,     0.89997,     0.89981,\n",
       "            0.89977,     0.89977,     0.89977,     0.89977,      0.8996,     0.89915,     0.89886,     0.89874,     0.89838,     0.89815,     0.89749,     0.89741,     0.89732,     0.89723,     0.89715,     0.89706,     0.89677,     0.89649,     0.89629,     0.89601,     0.89553,      0.8953,     0.89465,\n",
       "            0.89446,     0.89431,     0.89431,     0.89431,     0.89398,     0.89349,     0.89243,     0.89224,     0.89204,     0.89154,      0.8911,      0.8909,     0.89071,     0.89041,     0.89003,     0.88926,     0.88909,     0.88892,     0.88869,     0.88839,     0.88741,     0.88696,     0.88685,\n",
       "            0.88673,     0.88662,     0.88643,     0.88615,     0.88567,     0.88565,     0.88565,     0.88565,      0.8853,     0.88474,     0.88396,      0.8836,     0.88326,     0.88281,     0.88264,     0.88247,     0.88224,       0.882,      0.8818,     0.88159,     0.88139,     0.88118,     0.88056,\n",
       "            0.88033,     0.88007,     0.87976,      0.8792,     0.87854,     0.87753,     0.87601,      0.8758,     0.87526,     0.87463,     0.87426,     0.87426,     0.87389,      0.8727,     0.87199,     0.87096,     0.87045,     0.86994,     0.86842,     0.86824,     0.86813,     0.86802,      0.8679,\n",
       "            0.86566,     0.86533,     0.86426,     0.86383,     0.86229,     0.86192,      0.8614,     0.86052,     0.85999,     0.85971,     0.85878,     0.85746,     0.85642,     0.85567,     0.85455,      0.8543,     0.85397,     0.85351,     0.85297,      0.8523,     0.85159,     0.85097,     0.85025,\n",
       "            0.84971,     0.84882,     0.84724,      0.8466,     0.84588,     0.84489,     0.84391,     0.84342,     0.84208,     0.84135,      0.8409,     0.83878,     0.83738,     0.83478,     0.83277,     0.83203,       0.831,      0.8296,     0.82889,      0.8281,      0.8255,     0.82428,     0.82171,\n",
       "            0.81902,      0.8184,     0.81668,     0.81549,     0.81494,     0.81354,     0.80987,     0.80721,      0.8053,     0.80339,     0.79993,     0.79808,     0.79682,     0.79495,     0.79461,     0.79199,     0.79104,     0.78903,     0.78618,     0.78262,     0.77921,     0.77677,     0.77417,\n",
       "            0.77001,      0.7677,     0.76395,     0.76076,     0.75614,     0.75366,     0.75021,     0.74687,     0.74506,     0.74157,     0.73403,     0.72801,     0.72452,     0.71937,     0.71552,     0.71013,     0.70716,      0.6994,      0.6957,     0.69297,      0.6866,      0.6823,     0.67402,\n",
       "              0.668,      0.6617,     0.65653,     0.64678,     0.64098,     0.63685,     0.63121,      0.6235,     0.61738,     0.60819,     0.60176,     0.59597,     0.58707,     0.58249,     0.57456,     0.56601,     0.55967,     0.55364,     0.54762,     0.53841,     0.52898,     0.52292,     0.51644,\n",
       "            0.50907,     0.50129,     0.49438,     0.48878,     0.48292,     0.47286,     0.46797,     0.46198,     0.45406,     0.45008,     0.44491,     0.43818,     0.43285,     0.42896,     0.42098,      0.4165,     0.40894,     0.40607,     0.39929,     0.39456,     0.39101,     0.38644,     0.38473,\n",
       "            0.38058,     0.37881,     0.37283,     0.36824,     0.36363,     0.36042,     0.35925,     0.35698,      0.3546,     0.35096,     0.34925,     0.34688,     0.34521,     0.34305,     0.34073,     0.33913,     0.33671,      0.3326,     0.32841,     0.32455,     0.32273,     0.32025,     0.31763,\n",
       "            0.31582,     0.31371,     0.31002,     0.30769,      0.3047,     0.30303,     0.29943,     0.29824,      0.2959,     0.29432,     0.29189,     0.28789,     0.28713,     0.28279,     0.28098,     0.28027,     0.27912,     0.27752,     0.27186,     0.27038,     0.26848,     0.26545,     0.26327,\n",
       "            0.26302,     0.26221,     0.26075,     0.25796,     0.25628,     0.25409,     0.25292,     0.25116,      0.2469,     0.24437,     0.24298,     0.24099,     0.23885,     0.23646,     0.23473,     0.23315,     0.23205,     0.23093,     0.22689,     0.22413,     0.22032,     0.21853,     0.21367,\n",
       "            0.20986,     0.20621,     0.20328,     0.19952,     0.19558,     0.18934,     0.18382,     0.18073,     0.17516,     0.17134,     0.16583,     0.15854,     0.15317,     0.14701,     0.14031,     0.13659,     0.13033,     0.12515,     0.11874,     0.11484,     0.10991,     0.10468,    0.099746,\n",
       "           0.096643,    0.090053,    0.085029,     0.08224,    0.079012,    0.074788,    0.072606,    0.071265,     0.06819,    0.065165,     0.06279,    0.061332,    0.058755,    0.056571,    0.053611,    0.050996,    0.049616,    0.047921,    0.046684,     0.04534,    0.043595,    0.043091,    0.040853,\n",
       "            0.04021,    0.038744,     0.03581,    0.034319,    0.033037,    0.031904,    0.031124,    0.030455,    0.028942,    0.028389,    0.027226,    0.026539,    0.025983,    0.024195,     0.02345,    0.023106,     0.02295,    0.022794,     0.02224,    0.022018,    0.021665,    0.020693,    0.020019,\n",
       "           0.019846,    0.019673,    0.019373,    0.018781,    0.018118,    0.017979,     0.01784,    0.017675,    0.017479,    0.017286,    0.017116,    0.016946,     0.01662,    0.016125,     0.01573,    0.015124,    0.014478,    0.013516,    0.013172,    0.013088,    0.013004,    0.012921,    0.012837,\n",
       "            0.01274,    0.012214,    0.011259,    0.011101,    0.010943,    0.010657,   0.0099751,    0.009439,   0.0090359,   0.0087461,   0.0081653,   0.0080249,   0.0078844,   0.0077403,   0.0071135,   0.0065973,   0.0062377,   0.0060204,   0.0058647,   0.0057594,   0.0056542,   0.0055489,   0.0052246,\n",
       "           0.004667,   0.0040812,    0.003976,   0.0038707,   0.0037655,   0.0036602,   0.0033464,    0.002031,  0.00077479,           0,           0,           0,           0,           0,           0,           0,           0,           0,           0,           0,           0,           0,           0,\n",
       "                  0,           0,           0,           0,           0,           0,           0,           0,           0,           0,           0]]), 'Confidence', 'Recall']]\n",
       "fitness: 0.7070503507163085\n",
       "keys: ['metrics/precision(B)', 'metrics/recall(B)', 'metrics/mAP50(B)', 'metrics/mAP50-95(B)']\n",
       "maps: array([    0.67917])\n",
       "names: {0: 'License_Plate'}\n",
       "plot: True\n",
       "results_dict: {'metrics/precision(B)': 0.9716934693943388, 'metrics/recall(B)': 0.9226992131895817, 'metrics/mAP50(B)': 0.9579972806100974, 'metrics/mAP50-95(B)': 0.6791673585058875, 'fitness': 0.7070503507163085}\n",
       "save_dir: WindowsPath('runs/detect/train2')\n",
       "speed: {'preprocess': 0.45456372068741757, 'inference': 19.60411196289158, 'loss': 8.906248893936208e-05, 'postprocess': 0.3900921387085532}\n",
       "task: 'detect'"
      ]
     },
     "execution_count": 5,
     "metadata": {},
     "output_type": "execute_result"
    }
   ],
   "source": [
    "!pip install ultralytics\n",
    "\n",
    "from ultralytics import YOLO\n",
    "\n",
    "model = YOLO(\"yolov8n.pt\")\n",
    "\n",
    "model.train(\n",
    "    data=f\"{dataset.location}/data.yaml\",\n",
    "    epochs=10,\n",
    "    imgsz=416,\n",
    "    batch=8\n",
    ")"
   ]
  }
 ],
 "metadata": {
  "kernelspec": {
   "display_name": "Python [conda env:base] *",
   "language": "python",
   "name": "conda-base-py"
  },
  "language_info": {
   "codemirror_mode": {
    "name": "ipython",
    "version": 3
   },
   "file_extension": ".py",
   "mimetype": "text/x-python",
   "name": "python",
   "nbconvert_exporter": "python",
   "pygments_lexer": "ipython3",
   "version": "3.12.7"
  }
 },
 "nbformat": 4,
 "nbformat_minor": 5
}
